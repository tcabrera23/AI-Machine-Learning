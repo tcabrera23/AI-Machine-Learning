{
 "cells": [
  {
   "cell_type": "markdown",
   "metadata": {},
   "source": [
    "# Department Value Prediction"
   ]
  },
  {
   "cell_type": "code",
   "execution_count": 3,
   "metadata": {},
   "outputs": [],
   "source": [
    "import pandas as pd\n",
    "import matplotlib.pyplot as plt\n",
    "import seaborn as sns\n",
    "import numpy as np"
   ]
  },
  {
   "cell_type": "code",
   "execution_count": 4,
   "metadata": {},
   "outputs": [
    {
     "data": {
      "text/html": [
       "<div>\n",
       "<style scoped>\n",
       "    .dataframe tbody tr th:only-of-type {\n",
       "        vertical-align: middle;\n",
       "    }\n",
       "\n",
       "    .dataframe tbody tr th {\n",
       "        vertical-align: top;\n",
       "    }\n",
       "\n",
       "    .dataframe thead th {\n",
       "        text-align: right;\n",
       "    }\n",
       "</style>\n",
       "<table border=\"1\" class=\"dataframe\">\n",
       "  <thead>\n",
       "    <tr style=\"text-align: right;\">\n",
       "      <th></th>\n",
       "      <th>Direccion</th>\n",
       "      <th>PropiedadS</th>\n",
       "      <th>Dolares</th>\n",
       "      <th>Pesos</th>\n",
       "      <th>DolaresM2</th>\n",
       "      <th>PesosM2</th>\n",
       "      <th>Ambientes</th>\n",
       "      <th>Cotizacion</th>\n",
       "      <th>Trimestre</th>\n",
       "      <th>Barrio</th>\n",
       "      <th>Comunas</th>\n",
       "    </tr>\n",
       "  </thead>\n",
       "  <tbody>\n",
       "    <tr>\n",
       "      <th>0</th>\n",
       "      <td>Pje Cnel J F Bogado 4561</td>\n",
       "      <td>17</td>\n",
       "      <td>54900</td>\n",
       "      <td>3513600</td>\n",
       "      <td>3229</td>\n",
       "      <td>206682</td>\n",
       "      <td>1</td>\n",
       "      <td>64</td>\n",
       "      <td>SEGUNDO</td>\n",
       "      <td>ALMAGRO</td>\n",
       "      <td>5</td>\n",
       "    </tr>\n",
       "    <tr>\n",
       "      <th>1</th>\n",
       "      <td>BOGADO 4500</td>\n",
       "      <td>18</td>\n",
       "      <td>53000</td>\n",
       "      <td>3392000</td>\n",
       "      <td>2944</td>\n",
       "      <td>188444</td>\n",
       "      <td>1</td>\n",
       "      <td>64</td>\n",
       "      <td>SEGUNDO</td>\n",
       "      <td>ALMAGRO</td>\n",
       "      <td>5</td>\n",
       "    </tr>\n",
       "    <tr>\n",
       "      <th>2</th>\n",
       "      <td>Pte H Yrigoyen 3381</td>\n",
       "      <td>25</td>\n",
       "      <td>45000</td>\n",
       "      <td>2880000</td>\n",
       "      <td>2500</td>\n",
       "      <td>160000</td>\n",
       "      <td>1</td>\n",
       "      <td>64</td>\n",
       "      <td>SEGUNDO</td>\n",
       "      <td>ALMAGRO</td>\n",
       "      <td>5</td>\n",
       "    </tr>\n",
       "    <tr>\n",
       "      <th>3</th>\n",
       "      <td>PASAJE BOGADO 4500</td>\n",
       "      <td>18</td>\n",
       "      <td>41000</td>\n",
       "      <td>2624000</td>\n",
       "      <td>2278</td>\n",
       "      <td>145778</td>\n",
       "      <td>1</td>\n",
       "      <td>64</td>\n",
       "      <td>SEGUNDO</td>\n",
       "      <td>ALMAGRO</td>\n",
       "      <td>5</td>\n",
       "    </tr>\n",
       "    <tr>\n",
       "      <th>4</th>\n",
       "      <td>Estado de Palestina 500</td>\n",
       "      <td>18</td>\n",
       "      <td>58900</td>\n",
       "      <td>3769600</td>\n",
       "      <td>3272</td>\n",
       "      <td>209422</td>\n",
       "      <td>1</td>\n",
       "      <td>64</td>\n",
       "      <td>SEGUNDO</td>\n",
       "      <td>ALMAGRO</td>\n",
       "      <td>5</td>\n",
       "    </tr>\n",
       "  </tbody>\n",
       "</table>\n",
       "</div>"
      ],
      "text/plain": [
       "                  Direccion  PropiedadS  Dolares    Pesos  DolaresM2  PesosM2  \\\n",
       "0  Pje Cnel J F Bogado 4561          17    54900  3513600       3229   206682   \n",
       "1               BOGADO 4500          18    53000  3392000       2944   188444   \n",
       "2       Pte H Yrigoyen 3381          25    45000  2880000       2500   160000   \n",
       "3        PASAJE BOGADO 4500          18    41000  2624000       2278   145778   \n",
       "4   Estado de Palestina 500          18    58900  3769600       3272   209422   \n",
       "\n",
       "   Ambientes  Cotizacion Trimestre   Barrio  Comunas  \n",
       "0          1          64   SEGUNDO  ALMAGRO        5  \n",
       "1          1          64   SEGUNDO  ALMAGRO        5  \n",
       "2          1          64   SEGUNDO  ALMAGRO        5  \n",
       "3          1          64   SEGUNDO  ALMAGRO        5  \n",
       "4          1          64   SEGUNDO  ALMAGRO        5  "
      ]
     },
     "execution_count": 4,
     "metadata": {},
     "output_type": "execute_result"
    }
   ],
   "source": [
    "df_dept = pd.read_csv(r\"departamentos-en-venta-2020.csv\")\n",
    "df_dept.head()"
   ]
  },
  {
   "cell_type": "markdown",
   "metadata": {},
   "source": [
    "## Cleaning dataset"
   ]
  },
  {
   "cell_type": "markdown",
   "metadata": {},
   "source": [
    "### Checkeando por valores nulos"
   ]
  },
  {
   "cell_type": "code",
   "execution_count": 5,
   "metadata": {},
   "outputs": [
    {
     "data": {
      "text/plain": [
       "Direccion      0\n",
       "PropiedadS     0\n",
       "Dolares        0\n",
       "Pesos          0\n",
       "DolaresM2      0\n",
       "PesosM2        0\n",
       "Ambientes      0\n",
       "Cotizacion     0\n",
       "Trimestre      0\n",
       "Barrio        10\n",
       "Comunas        0\n",
       "dtype: int64"
      ]
     },
     "execution_count": 5,
     "metadata": {},
     "output_type": "execute_result"
    }
   ],
   "source": [
    "df_dept.isna().sum()"
   ]
  },
  {
   "cell_type": "code",
   "execution_count": 6,
   "metadata": {},
   "outputs": [],
   "source": [
    "nulls = df_dept[df_dept[\"Barrio\"].isna()]\n",
    "no_nulls = df_dept[~df_dept[\"Barrio\"].isna()]"
   ]
  },
  {
   "cell_type": "code",
   "execution_count": 7,
   "metadata": {},
   "outputs": [],
   "source": [
    "# Vamos a ver a que valores puede aproximarse los nulos de la columna barrio"
   ]
  },
  {
   "cell_type": "code",
   "execution_count": 8,
   "metadata": {},
   "outputs": [
    {
     "data": {
      "text/plain": [
       "PropiedadS         46.8\n",
       "Dolares         82500.0\n",
       "Pesos         5278950.0\n",
       "DolaresM2        1757.5\n",
       "PesosM2        112640.2\n",
       "Ambientes           2.2\n",
       "Cotizacion         65.5\n",
       "Barrio              NaN\n",
       "Comunas             0.0\n",
       "dtype: float64"
      ]
     },
     "execution_count": 8,
     "metadata": {},
     "output_type": "execute_result"
    }
   ],
   "source": [
    "nulls.mean()"
   ]
  },
  {
   "cell_type": "code",
   "execution_count": 9,
   "metadata": {},
   "outputs": [],
   "source": [
    "# Si observamos en la columna 'DolaresM2' de la Comuna '8' los valores son bastantes cercanos con los nulos "
   ]
  },
  {
   "cell_type": "code",
   "execution_count": 10,
   "metadata": {},
   "outputs": [
    {
     "data": {
      "text/html": [
       "<div>\n",
       "<style scoped>\n",
       "    .dataframe tbody tr th:only-of-type {\n",
       "        vertical-align: middle;\n",
       "    }\n",
       "\n",
       "    .dataframe tbody tr th {\n",
       "        vertical-align: top;\n",
       "    }\n",
       "\n",
       "    .dataframe thead th {\n",
       "        text-align: right;\n",
       "    }\n",
       "</style>\n",
       "<table border=\"1\" class=\"dataframe\">\n",
       "  <thead>\n",
       "    <tr style=\"text-align: right;\">\n",
       "      <th></th>\n",
       "      <th>PropiedadS</th>\n",
       "      <th>Dolares</th>\n",
       "      <th>Pesos</th>\n",
       "      <th>DolaresM2</th>\n",
       "      <th>PesosM2</th>\n",
       "      <th>Ambientes</th>\n",
       "      <th>Cotizacion</th>\n",
       "      <th>Comunas</th>\n",
       "    </tr>\n",
       "    <tr>\n",
       "      <th>Comunas</th>\n",
       "      <th></th>\n",
       "      <th></th>\n",
       "      <th></th>\n",
       "      <th></th>\n",
       "      <th></th>\n",
       "      <th></th>\n",
       "      <th></th>\n",
       "      <th></th>\n",
       "    </tr>\n",
       "  </thead>\n",
       "  <tbody>\n",
       "    <tr>\n",
       "      <th>1</th>\n",
       "      <td>79.080998</td>\n",
       "      <td>251965.195727</td>\n",
       "      <td>1.699120e+07</td>\n",
       "      <td>2936.602844</td>\n",
       "      <td>197314.708024</td>\n",
       "      <td>2.472589</td>\n",
       "      <td>67.353806</td>\n",
       "      <td>1.0</td>\n",
       "    </tr>\n",
       "    <tr>\n",
       "      <th>2</th>\n",
       "      <td>96.058184</td>\n",
       "      <td>302440.896651</td>\n",
       "      <td>2.027056e+07</td>\n",
       "      <td>3303.651522</td>\n",
       "      <td>221175.300260</td>\n",
       "      <td>2.891982</td>\n",
       "      <td>67.155338</td>\n",
       "      <td>2.0</td>\n",
       "    </tr>\n",
       "    <tr>\n",
       "      <th>3</th>\n",
       "      <td>65.644747</td>\n",
       "      <td>131691.037915</td>\n",
       "      <td>8.813567e+06</td>\n",
       "      <td>2152.650178</td>\n",
       "      <td>143507.831556</td>\n",
       "      <td>2.532385</td>\n",
       "      <td>66.818325</td>\n",
       "      <td>3.0</td>\n",
       "    </tr>\n",
       "    <tr>\n",
       "      <th>4</th>\n",
       "      <td>71.509813</td>\n",
       "      <td>148283.211870</td>\n",
       "      <td>9.950880e+06</td>\n",
       "      <td>2207.135966</td>\n",
       "      <td>147765.877749</td>\n",
       "      <td>2.617640</td>\n",
       "      <td>67.290376</td>\n",
       "      <td>4.0</td>\n",
       "    </tr>\n",
       "    <tr>\n",
       "      <th>5</th>\n",
       "      <td>62.584649</td>\n",
       "      <td>153786.647503</td>\n",
       "      <td>1.029181e+07</td>\n",
       "      <td>2615.370768</td>\n",
       "      <td>174224.995234</td>\n",
       "      <td>2.422997</td>\n",
       "      <td>66.787409</td>\n",
       "      <td>5.0</td>\n",
       "    </tr>\n",
       "    <tr>\n",
       "      <th>6</th>\n",
       "      <td>76.474820</td>\n",
       "      <td>205734.319422</td>\n",
       "      <td>1.383693e+07</td>\n",
       "      <td>2837.898662</td>\n",
       "      <td>190569.160768</td>\n",
       "      <td>2.751717</td>\n",
       "      <td>67.319422</td>\n",
       "      <td>6.0</td>\n",
       "    </tr>\n",
       "    <tr>\n",
       "      <th>7</th>\n",
       "      <td>70.448707</td>\n",
       "      <td>160661.986021</td>\n",
       "      <td>1.076471e+07</td>\n",
       "      <td>2423.357578</td>\n",
       "      <td>162032.940509</td>\n",
       "      <td>2.535527</td>\n",
       "      <td>67.060542</td>\n",
       "      <td>7.0</td>\n",
       "    </tr>\n",
       "    <tr>\n",
       "      <th>8</th>\n",
       "      <td>71.367394</td>\n",
       "      <td>101123.738232</td>\n",
       "      <td>6.839160e+06</td>\n",
       "      <td>1507.785304</td>\n",
       "      <td>101441.146958</td>\n",
       "      <td>3.053961</td>\n",
       "      <td>67.525832</td>\n",
       "      <td>8.0</td>\n",
       "    </tr>\n",
       "    <tr>\n",
       "      <th>9</th>\n",
       "      <td>68.398434</td>\n",
       "      <td>145755.519239</td>\n",
       "      <td>9.795732e+06</td>\n",
       "      <td>2348.997539</td>\n",
       "      <td>157284.366890</td>\n",
       "      <td>2.512752</td>\n",
       "      <td>67.143177</td>\n",
       "      <td>9.0</td>\n",
       "    </tr>\n",
       "    <tr>\n",
       "      <th>10</th>\n",
       "      <td>63.484646</td>\n",
       "      <td>135360.295060</td>\n",
       "      <td>9.114055e+06</td>\n",
       "      <td>2300.586708</td>\n",
       "      <td>154511.459576</td>\n",
       "      <td>2.380804</td>\n",
       "      <td>67.407358</td>\n",
       "      <td>10.0</td>\n",
       "    </tr>\n",
       "    <tr>\n",
       "      <th>11</th>\n",
       "      <td>69.470750</td>\n",
       "      <td>167275.304175</td>\n",
       "      <td>1.125609e+07</td>\n",
       "      <td>2554.574567</td>\n",
       "      <td>171159.918978</td>\n",
       "      <td>2.513046</td>\n",
       "      <td>67.260505</td>\n",
       "      <td>11.0</td>\n",
       "    </tr>\n",
       "    <tr>\n",
       "      <th>12</th>\n",
       "      <td>65.380937</td>\n",
       "      <td>179348.303040</td>\n",
       "      <td>1.207602e+07</td>\n",
       "      <td>2935.338664</td>\n",
       "      <td>196843.909278</td>\n",
       "      <td>2.330351</td>\n",
       "      <td>67.411653</td>\n",
       "      <td>12.0</td>\n",
       "    </tr>\n",
       "    <tr>\n",
       "      <th>13</th>\n",
       "      <td>82.098005</td>\n",
       "      <td>279078.289039</td>\n",
       "      <td>1.873616e+07</td>\n",
       "      <td>3482.425499</td>\n",
       "      <td>233223.219280</td>\n",
       "      <td>2.633066</td>\n",
       "      <td>67.184607</td>\n",
       "      <td>13.0</td>\n",
       "    </tr>\n",
       "    <tr>\n",
       "      <th>14</th>\n",
       "      <td>80.700581</td>\n",
       "      <td>300091.372823</td>\n",
       "      <td>2.024064e+07</td>\n",
       "      <td>3651.925399</td>\n",
       "      <td>244954.647867</td>\n",
       "      <td>2.527924</td>\n",
       "      <td>67.213114</td>\n",
       "      <td>14.0</td>\n",
       "    </tr>\n",
       "    <tr>\n",
       "      <th>15</th>\n",
       "      <td>62.821155</td>\n",
       "      <td>161982.196705</td>\n",
       "      <td>1.089619e+07</td>\n",
       "      <td>2726.013864</td>\n",
       "      <td>182797.891698</td>\n",
       "      <td>2.304763</td>\n",
       "      <td>67.310634</td>\n",
       "      <td>15.0</td>\n",
       "    </tr>\n",
       "  </tbody>\n",
       "</table>\n",
       "</div>"
      ],
      "text/plain": [
       "         PropiedadS        Dolares         Pesos    DolaresM2        PesosM2  \\\n",
       "Comunas                                                                        \n",
       "1         79.080998  251965.195727  1.699120e+07  2936.602844  197314.708024   \n",
       "2         96.058184  302440.896651  2.027056e+07  3303.651522  221175.300260   \n",
       "3         65.644747  131691.037915  8.813567e+06  2152.650178  143507.831556   \n",
       "4         71.509813  148283.211870  9.950880e+06  2207.135966  147765.877749   \n",
       "5         62.584649  153786.647503  1.029181e+07  2615.370768  174224.995234   \n",
       "6         76.474820  205734.319422  1.383693e+07  2837.898662  190569.160768   \n",
       "7         70.448707  160661.986021  1.076471e+07  2423.357578  162032.940509   \n",
       "8         71.367394  101123.738232  6.839160e+06  1507.785304  101441.146958   \n",
       "9         68.398434  145755.519239  9.795732e+06  2348.997539  157284.366890   \n",
       "10        63.484646  135360.295060  9.114055e+06  2300.586708  154511.459576   \n",
       "11        69.470750  167275.304175  1.125609e+07  2554.574567  171159.918978   \n",
       "12        65.380937  179348.303040  1.207602e+07  2935.338664  196843.909278   \n",
       "13        82.098005  279078.289039  1.873616e+07  3482.425499  233223.219280   \n",
       "14        80.700581  300091.372823  2.024064e+07  3651.925399  244954.647867   \n",
       "15        62.821155  161982.196705  1.089619e+07  2726.013864  182797.891698   \n",
       "\n",
       "         Ambientes  Cotizacion  Comunas  \n",
       "Comunas                                  \n",
       "1         2.472589   67.353806      1.0  \n",
       "2         2.891982   67.155338      2.0  \n",
       "3         2.532385   66.818325      3.0  \n",
       "4         2.617640   67.290376      4.0  \n",
       "5         2.422997   66.787409      5.0  \n",
       "6         2.751717   67.319422      6.0  \n",
       "7         2.535527   67.060542      7.0  \n",
       "8         3.053961   67.525832      8.0  \n",
       "9         2.512752   67.143177      9.0  \n",
       "10        2.380804   67.407358     10.0  \n",
       "11        2.513046   67.260505     11.0  \n",
       "12        2.330351   67.411653     12.0  \n",
       "13        2.633066   67.184607     13.0  \n",
       "14        2.527924   67.213114     14.0  \n",
       "15        2.304763   67.310634     15.0  "
      ]
     },
     "execution_count": 10,
     "metadata": {},
     "output_type": "execute_result"
    }
   ],
   "source": [
    "no_nulls.groupby(df_dept[\"Comunas\"]).mean()"
   ]
  },
  {
   "cell_type": "code",
   "execution_count": 11,
   "metadata": {},
   "outputs": [],
   "source": [
    "# Agrego los valores nulls a los de la comuna 8"
   ]
  },
  {
   "cell_type": "code",
   "execution_count": 12,
   "metadata": {},
   "outputs": [],
   "source": [
    "df_dept.loc[df_dept['Comunas'] == 0, \"Comunas\"] = 8"
   ]
  },
  {
   "cell_type": "code",
   "execution_count": 13,
   "metadata": {},
   "outputs": [],
   "source": [
    "# En caso de no querer considerar esos pocos valores, simplemente podría haberlos eliminado\n",
    "#df_dept.info()\n",
    "#df_dept.dropna()"
   ]
  },
  {
   "cell_type": "code",
   "execution_count": 14,
   "metadata": {},
   "outputs": [
    {
     "data": {
      "text/plain": [
       "14    21702\n",
       "13    19295\n",
       "1     14556\n",
       "12    12632\n",
       "15    12262\n",
       "6     11358\n",
       "2     11137\n",
       "3     10128\n",
       "5     10071\n",
       "7      9514\n",
       "11     7282\n",
       "10     6741\n",
       "9      4470\n",
       "4      4229\n",
       "8       881\n",
       "Name: Comunas, dtype: int64"
      ]
     },
     "execution_count": 14,
     "metadata": {},
     "output_type": "execute_result"
    }
   ],
   "source": [
    "# Contabilizo la cantidad de comunas para ver si tengo outliers\n",
    "df_dept[\"Comunas\"].value_counts()"
   ]
  },
  {
   "cell_type": "code",
   "execution_count": 15,
   "metadata": {},
   "outputs": [
    {
     "data": {
      "text/plain": [
       "Direccion    NaN\n",
       "PropiedadS   NaN\n",
       "Dolares      NaN\n",
       "Pesos        NaN\n",
       "DolaresM2    NaN\n",
       "PesosM2      NaN\n",
       "Ambientes    NaN\n",
       "Cotizacion   NaN\n",
       "Trimestre    NaN\n",
       "Barrio       NaN\n",
       "Comunas      NaN\n",
       "dtype: float64"
      ]
     },
     "execution_count": 15,
     "metadata": {},
     "output_type": "execute_result"
    }
   ],
   "source": [
    "df_dept[df_dept[\"Comunas\"] == 0].mean()"
   ]
  },
  {
   "cell_type": "code",
   "execution_count": 16,
   "metadata": {},
   "outputs": [
    {
     "data": {
      "text/html": [
       "<div>\n",
       "<style scoped>\n",
       "    .dataframe tbody tr th:only-of-type {\n",
       "        vertical-align: middle;\n",
       "    }\n",
       "\n",
       "    .dataframe tbody tr th {\n",
       "        vertical-align: top;\n",
       "    }\n",
       "\n",
       "    .dataframe thead th {\n",
       "        text-align: right;\n",
       "    }\n",
       "</style>\n",
       "<table border=\"1\" class=\"dataframe\">\n",
       "  <thead>\n",
       "    <tr style=\"text-align: right;\">\n",
       "      <th></th>\n",
       "      <th>PropiedadS</th>\n",
       "      <th>Dolares</th>\n",
       "      <th>Pesos</th>\n",
       "      <th>DolaresM2</th>\n",
       "      <th>PesosM2</th>\n",
       "      <th>Ambientes</th>\n",
       "      <th>Cotizacion</th>\n",
       "    </tr>\n",
       "    <tr>\n",
       "      <th>Comunas</th>\n",
       "      <th></th>\n",
       "      <th></th>\n",
       "      <th></th>\n",
       "      <th></th>\n",
       "      <th></th>\n",
       "      <th></th>\n",
       "      <th></th>\n",
       "    </tr>\n",
       "  </thead>\n",
       "  <tbody>\n",
       "    <tr>\n",
       "      <th>1</th>\n",
       "      <td>79.080998</td>\n",
       "      <td>251965.195727</td>\n",
       "      <td>1.699120e+07</td>\n",
       "      <td>2936.602844</td>\n",
       "      <td>197314.708024</td>\n",
       "      <td>2.472589</td>\n",
       "      <td>67.353806</td>\n",
       "    </tr>\n",
       "    <tr>\n",
       "      <th>2</th>\n",
       "      <td>96.058184</td>\n",
       "      <td>302440.896651</td>\n",
       "      <td>2.027056e+07</td>\n",
       "      <td>3303.651522</td>\n",
       "      <td>221175.300260</td>\n",
       "      <td>2.891982</td>\n",
       "      <td>67.155338</td>\n",
       "    </tr>\n",
       "    <tr>\n",
       "      <th>3</th>\n",
       "      <td>65.644747</td>\n",
       "      <td>131691.037915</td>\n",
       "      <td>8.813567e+06</td>\n",
       "      <td>2152.650178</td>\n",
       "      <td>143507.831556</td>\n",
       "      <td>2.532385</td>\n",
       "      <td>66.818325</td>\n",
       "    </tr>\n",
       "    <tr>\n",
       "      <th>4</th>\n",
       "      <td>71.509813</td>\n",
       "      <td>148283.211870</td>\n",
       "      <td>9.950880e+06</td>\n",
       "      <td>2207.135966</td>\n",
       "      <td>147765.877749</td>\n",
       "      <td>2.617640</td>\n",
       "      <td>67.290376</td>\n",
       "    </tr>\n",
       "    <tr>\n",
       "      <th>5</th>\n",
       "      <td>62.584649</td>\n",
       "      <td>153786.647503</td>\n",
       "      <td>1.029181e+07</td>\n",
       "      <td>2615.370768</td>\n",
       "      <td>174224.995234</td>\n",
       "      <td>2.422997</td>\n",
       "      <td>66.787409</td>\n",
       "    </tr>\n",
       "    <tr>\n",
       "      <th>6</th>\n",
       "      <td>76.474820</td>\n",
       "      <td>205734.319422</td>\n",
       "      <td>1.383693e+07</td>\n",
       "      <td>2837.898662</td>\n",
       "      <td>190569.160768</td>\n",
       "      <td>2.751717</td>\n",
       "      <td>67.319422</td>\n",
       "    </tr>\n",
       "    <tr>\n",
       "      <th>7</th>\n",
       "      <td>70.448707</td>\n",
       "      <td>160661.986021</td>\n",
       "      <td>1.076471e+07</td>\n",
       "      <td>2423.357578</td>\n",
       "      <td>162032.940509</td>\n",
       "      <td>2.535527</td>\n",
       "      <td>67.060542</td>\n",
       "    </tr>\n",
       "    <tr>\n",
       "      <th>8</th>\n",
       "      <td>71.088536</td>\n",
       "      <td>100912.345062</td>\n",
       "      <td>6.821450e+06</td>\n",
       "      <td>1510.619750</td>\n",
       "      <td>101568.264472</td>\n",
       "      <td>3.044268</td>\n",
       "      <td>67.502838</td>\n",
       "    </tr>\n",
       "    <tr>\n",
       "      <th>9</th>\n",
       "      <td>68.398434</td>\n",
       "      <td>145755.519239</td>\n",
       "      <td>9.795732e+06</td>\n",
       "      <td>2348.997539</td>\n",
       "      <td>157284.366890</td>\n",
       "      <td>2.512752</td>\n",
       "      <td>67.143177</td>\n",
       "    </tr>\n",
       "    <tr>\n",
       "      <th>10</th>\n",
       "      <td>63.484646</td>\n",
       "      <td>135360.295060</td>\n",
       "      <td>9.114055e+06</td>\n",
       "      <td>2300.586708</td>\n",
       "      <td>154511.459576</td>\n",
       "      <td>2.380804</td>\n",
       "      <td>67.407358</td>\n",
       "    </tr>\n",
       "    <tr>\n",
       "      <th>11</th>\n",
       "      <td>69.470750</td>\n",
       "      <td>167275.304175</td>\n",
       "      <td>1.125609e+07</td>\n",
       "      <td>2554.574567</td>\n",
       "      <td>171159.918978</td>\n",
       "      <td>2.513046</td>\n",
       "      <td>67.260505</td>\n",
       "    </tr>\n",
       "    <tr>\n",
       "      <th>12</th>\n",
       "      <td>65.380937</td>\n",
       "      <td>179348.303040</td>\n",
       "      <td>1.207602e+07</td>\n",
       "      <td>2935.338664</td>\n",
       "      <td>196843.909278</td>\n",
       "      <td>2.330351</td>\n",
       "      <td>67.411653</td>\n",
       "    </tr>\n",
       "    <tr>\n",
       "      <th>13</th>\n",
       "      <td>82.098005</td>\n",
       "      <td>279078.289039</td>\n",
       "      <td>1.873616e+07</td>\n",
       "      <td>3482.425499</td>\n",
       "      <td>233223.219280</td>\n",
       "      <td>2.633066</td>\n",
       "      <td>67.184607</td>\n",
       "    </tr>\n",
       "    <tr>\n",
       "      <th>14</th>\n",
       "      <td>80.700581</td>\n",
       "      <td>300091.372823</td>\n",
       "      <td>2.024064e+07</td>\n",
       "      <td>3651.925399</td>\n",
       "      <td>244954.647867</td>\n",
       "      <td>2.527924</td>\n",
       "      <td>67.213114</td>\n",
       "    </tr>\n",
       "    <tr>\n",
       "      <th>15</th>\n",
       "      <td>62.821155</td>\n",
       "      <td>161982.196705</td>\n",
       "      <td>1.089619e+07</td>\n",
       "      <td>2726.013864</td>\n",
       "      <td>182797.891698</td>\n",
       "      <td>2.304763</td>\n",
       "      <td>67.310634</td>\n",
       "    </tr>\n",
       "  </tbody>\n",
       "</table>\n",
       "</div>"
      ],
      "text/plain": [
       "         PropiedadS        Dolares         Pesos    DolaresM2        PesosM2  \\\n",
       "Comunas                                                                        \n",
       "1         79.080998  251965.195727  1.699120e+07  2936.602844  197314.708024   \n",
       "2         96.058184  302440.896651  2.027056e+07  3303.651522  221175.300260   \n",
       "3         65.644747  131691.037915  8.813567e+06  2152.650178  143507.831556   \n",
       "4         71.509813  148283.211870  9.950880e+06  2207.135966  147765.877749   \n",
       "5         62.584649  153786.647503  1.029181e+07  2615.370768  174224.995234   \n",
       "6         76.474820  205734.319422  1.383693e+07  2837.898662  190569.160768   \n",
       "7         70.448707  160661.986021  1.076471e+07  2423.357578  162032.940509   \n",
       "8         71.088536  100912.345062  6.821450e+06  1510.619750  101568.264472   \n",
       "9         68.398434  145755.519239  9.795732e+06  2348.997539  157284.366890   \n",
       "10        63.484646  135360.295060  9.114055e+06  2300.586708  154511.459576   \n",
       "11        69.470750  167275.304175  1.125609e+07  2554.574567  171159.918978   \n",
       "12        65.380937  179348.303040  1.207602e+07  2935.338664  196843.909278   \n",
       "13        82.098005  279078.289039  1.873616e+07  3482.425499  233223.219280   \n",
       "14        80.700581  300091.372823  2.024064e+07  3651.925399  244954.647867   \n",
       "15        62.821155  161982.196705  1.089619e+07  2726.013864  182797.891698   \n",
       "\n",
       "         Ambientes  Cotizacion  \n",
       "Comunas                         \n",
       "1         2.472589   67.353806  \n",
       "2         2.891982   67.155338  \n",
       "3         2.532385   66.818325  \n",
       "4         2.617640   67.290376  \n",
       "5         2.422997   66.787409  \n",
       "6         2.751717   67.319422  \n",
       "7         2.535527   67.060542  \n",
       "8         3.044268   67.502838  \n",
       "9         2.512752   67.143177  \n",
       "10        2.380804   67.407358  \n",
       "11        2.513046   67.260505  \n",
       "12        2.330351   67.411653  \n",
       "13        2.633066   67.184607  \n",
       "14        2.527924   67.213114  \n",
       "15        2.304763   67.310634  "
      ]
     },
     "execution_count": 16,
     "metadata": {},
     "output_type": "execute_result"
    }
   ],
   "source": [
    "# Comunas 0 se parece mucho a comunas 8 \n",
    "df_dept.groupby(df_dept[\"Comunas\"]).mean()"
   ]
  },
  {
   "cell_type": "code",
   "execution_count": 17,
   "metadata": {},
   "outputs": [
    {
     "data": {
      "text/plain": [
       "14    21702\n",
       "13    19295\n",
       "1     14556\n",
       "12    12632\n",
       "15    12262\n",
       "6     11358\n",
       "2     11137\n",
       "3     10128\n",
       "5     10071\n",
       "7      9514\n",
       "11     7282\n",
       "10     6741\n",
       "9      4470\n",
       "4      4229\n",
       "8       881\n",
       "Name: Comunas, dtype: int64"
      ]
     },
     "execution_count": 17,
     "metadata": {},
     "output_type": "execute_result"
    }
   ],
   "source": [
    "# Lo que puedo hacer es que mi nueva tabla sea al filtro !=\n",
    "df_dept = df_dept[df_dept[\"Comunas\"] != 0]\n",
    "df_dept[\"Comunas\"].value_counts()"
   ]
  },
  {
   "cell_type": "code",
   "execution_count": 18,
   "metadata": {},
   "outputs": [
    {
     "data": {
      "text/plain": [
       " 2    51328\n",
       " 3    43992\n",
       " 1    29754\n",
       " 4    25230\n",
       " 5     4835\n",
       " 6      810\n",
       " 7      237\n",
       " 8       43\n",
       " 0       26\n",
       "-7        3\n",
       "Name: Ambientes, dtype: int64"
      ]
     },
     "execution_count": 18,
     "metadata": {},
     "output_type": "execute_result"
    }
   ],
   "source": [
    "df_dept[\"Ambientes\"].value_counts()"
   ]
  },
  {
   "cell_type": "code",
   "execution_count": 19,
   "metadata": {},
   "outputs": [
    {
     "data": {
      "text/plain": [
       "2    51328\n",
       "3    43992\n",
       "1    29754\n",
       "4    25230\n",
       "5     4835\n",
       "6      810\n",
       "7      240\n",
       "8       43\n",
       "0       26\n",
       "Name: Ambientes, dtype: int64"
      ]
     },
     "execution_count": 19,
     "metadata": {},
     "output_type": "execute_result"
    }
   ],
   "source": [
    "# Localizo los valores negativos y los agrego a su correspondiente grupo\n",
    "\n",
    "df_dept.loc[df_dept['Ambientes'] < 0, \"Ambientes\"] = df_dept[\"Ambientes\"]*(-1)\n",
    "df_dept['Ambientes'].value_counts()"
   ]
  },
  {
   "cell_type": "code",
   "execution_count": 20,
   "metadata": {},
   "outputs": [],
   "source": [
    "# Analizo los valores de los departamentos con 0 ambientes"
   ]
  },
  {
   "cell_type": "code",
   "execution_count": 21,
   "metadata": {},
   "outputs": [
    {
     "data": {
      "text/plain": [
       "PropiedadS    5.219231e+01\n",
       "Dolares       1.409768e+05\n",
       "Pesos         9.294410e+06\n",
       "DolaresM2     2.890038e+03\n",
       "PesosM2       1.904047e+05\n",
       "Ambientes     0.000000e+00\n",
       "Cotizacion    6.626923e+01\n",
       "Comunas       7.153846e+00\n",
       "dtype: float64"
      ]
     },
     "execution_count": 21,
     "metadata": {},
     "output_type": "execute_result"
    }
   ],
   "source": [
    "df_dept[df_dept[\"Ambientes\"] == 0].mean()"
   ]
  },
  {
   "cell_type": "code",
   "execution_count": 22,
   "metadata": {},
   "outputs": [
    {
     "data": {
      "text/html": [
       "<div>\n",
       "<style scoped>\n",
       "    .dataframe tbody tr th:only-of-type {\n",
       "        vertical-align: middle;\n",
       "    }\n",
       "\n",
       "    .dataframe tbody tr th {\n",
       "        vertical-align: top;\n",
       "    }\n",
       "\n",
       "    .dataframe thead th {\n",
       "        text-align: right;\n",
       "    }\n",
       "</style>\n",
       "<table border=\"1\" class=\"dataframe\">\n",
       "  <thead>\n",
       "    <tr style=\"text-align: right;\">\n",
       "      <th></th>\n",
       "      <th>PropiedadS</th>\n",
       "      <th>Dolares</th>\n",
       "      <th>Pesos</th>\n",
       "      <th>DolaresM2</th>\n",
       "      <th>PesosM2</th>\n",
       "      <th>Cotizacion</th>\n",
       "      <th>Comunas</th>\n",
       "    </tr>\n",
       "    <tr>\n",
       "      <th>Ambientes</th>\n",
       "      <th></th>\n",
       "      <th></th>\n",
       "      <th></th>\n",
       "      <th></th>\n",
       "      <th></th>\n",
       "      <th></th>\n",
       "      <th></th>\n",
       "    </tr>\n",
       "  </thead>\n",
       "  <tbody>\n",
       "    <tr>\n",
       "      <th>0</th>\n",
       "      <td>52.192308</td>\n",
       "      <td>140976.807692</td>\n",
       "      <td>9.294410e+06</td>\n",
       "      <td>2890.038462</td>\n",
       "      <td>190404.730769</td>\n",
       "      <td>66.269231</td>\n",
       "      <td>7.153846</td>\n",
       "    </tr>\n",
       "    <tr>\n",
       "      <th>1</th>\n",
       "      <td>39.606540</td>\n",
       "      <td>108563.501613</td>\n",
       "      <td>7.278627e+06</td>\n",
       "      <td>2906.895409</td>\n",
       "      <td>194891.965921</td>\n",
       "      <td>67.311689</td>\n",
       "      <td>8.884654</td>\n",
       "    </tr>\n",
       "    <tr>\n",
       "      <th>2</th>\n",
       "      <td>49.871220</td>\n",
       "      <td>137549.071930</td>\n",
       "      <td>9.210691e+06</td>\n",
       "      <td>2911.845406</td>\n",
       "      <td>194707.244136</td>\n",
       "      <td>67.093204</td>\n",
       "      <td>8.871201</td>\n",
       "    </tr>\n",
       "    <tr>\n",
       "      <th>3</th>\n",
       "      <td>77.672099</td>\n",
       "      <td>216929.201855</td>\n",
       "      <td>1.454544e+07</td>\n",
       "      <td>2850.727223</td>\n",
       "      <td>190786.084538</td>\n",
       "      <td>67.098791</td>\n",
       "      <td>8.535825</td>\n",
       "    </tr>\n",
       "    <tr>\n",
       "      <th>4</th>\n",
       "      <td>125.674554</td>\n",
       "      <td>378894.668886</td>\n",
       "      <td>2.549818e+07</td>\n",
       "      <td>2996.850852</td>\n",
       "      <td>201234.828458</td>\n",
       "      <td>67.320174</td>\n",
       "      <td>8.448553</td>\n",
       "    </tr>\n",
       "    <tr>\n",
       "      <th>5</th>\n",
       "      <td>201.334643</td>\n",
       "      <td>652564.033506</td>\n",
       "      <td>4.436649e+07</td>\n",
       "      <td>3098.311892</td>\n",
       "      <td>209637.056877</td>\n",
       "      <td>67.691210</td>\n",
       "      <td>8.060393</td>\n",
       "    </tr>\n",
       "    <tr>\n",
       "      <th>6</th>\n",
       "      <td>258.274074</td>\n",
       "      <td>802737.282716</td>\n",
       "      <td>5.503771e+07</td>\n",
       "      <td>2886.367901</td>\n",
       "      <td>197853.908642</td>\n",
       "      <td>68.197531</td>\n",
       "      <td>6.522222</td>\n",
       "    </tr>\n",
       "    <tr>\n",
       "      <th>7</th>\n",
       "      <td>293.562500</td>\n",
       "      <td>882048.750000</td>\n",
       "      <td>6.148313e+07</td>\n",
       "      <td>3144.066667</td>\n",
       "      <td>216447.712500</td>\n",
       "      <td>69.029167</td>\n",
       "      <td>5.225000</td>\n",
       "    </tr>\n",
       "    <tr>\n",
       "      <th>8</th>\n",
       "      <td>249.627907</td>\n",
       "      <td>401046.511628</td>\n",
       "      <td>2.678192e+07</td>\n",
       "      <td>1812.581395</td>\n",
       "      <td>120841.046512</td>\n",
       "      <td>66.790698</td>\n",
       "      <td>3.325581</td>\n",
       "    </tr>\n",
       "  </tbody>\n",
       "</table>\n",
       "</div>"
      ],
      "text/plain": [
       "           PropiedadS        Dolares         Pesos    DolaresM2  \\\n",
       "Ambientes                                                         \n",
       "0           52.192308  140976.807692  9.294410e+06  2890.038462   \n",
       "1           39.606540  108563.501613  7.278627e+06  2906.895409   \n",
       "2           49.871220  137549.071930  9.210691e+06  2911.845406   \n",
       "3           77.672099  216929.201855  1.454544e+07  2850.727223   \n",
       "4          125.674554  378894.668886  2.549818e+07  2996.850852   \n",
       "5          201.334643  652564.033506  4.436649e+07  3098.311892   \n",
       "6          258.274074  802737.282716  5.503771e+07  2886.367901   \n",
       "7          293.562500  882048.750000  6.148313e+07  3144.066667   \n",
       "8          249.627907  401046.511628  2.678192e+07  1812.581395   \n",
       "\n",
       "                 PesosM2  Cotizacion   Comunas  \n",
       "Ambientes                                       \n",
       "0          190404.730769   66.269231  7.153846  \n",
       "1          194891.965921   67.311689  8.884654  \n",
       "2          194707.244136   67.093204  8.871201  \n",
       "3          190786.084538   67.098791  8.535825  \n",
       "4          201234.828458   67.320174  8.448553  \n",
       "5          209637.056877   67.691210  8.060393  \n",
       "6          197853.908642   68.197531  6.522222  \n",
       "7          216447.712500   69.029167  5.225000  \n",
       "8          120841.046512   66.790698  3.325581  "
      ]
     },
     "execution_count": 22,
     "metadata": {},
     "output_type": "execute_result"
    }
   ],
   "source": [
    "# Ambientes 0 es similar con cantidad de 6 ambientes e incluso dolaresM2 coincide mucho asi que esto si voy a decidir pasarlo \n",
    "df_dept.groupby(df_dept[\"Ambientes\"]).mean()"
   ]
  },
  {
   "cell_type": "code",
   "execution_count": 23,
   "metadata": {},
   "outputs": [
    {
     "data": {
      "text/plain": [
       "2    51328\n",
       "3    43992\n",
       "1    29754\n",
       "4    25230\n",
       "5     4835\n",
       "6      836\n",
       "7      240\n",
       "8       43\n",
       "Name: Ambientes, dtype: int64"
      ]
     },
     "execution_count": 23,
     "metadata": {},
     "output_type": "execute_result"
    }
   ],
   "source": [
    "df_dept.loc[df_dept['Ambientes'] == 0, \"Ambientes\"] = 6\n",
    "df_dept['Ambientes'].value_counts()"
   ]
  },
  {
   "cell_type": "markdown",
   "metadata": {},
   "source": [
    "### Elimino las columnas con las que no necesito trabajar para ajustar mejor mi modelo"
   ]
  },
  {
   "cell_type": "code",
   "execution_count": 24,
   "metadata": {},
   "outputs": [
    {
     "data": {
      "text/html": [
       "<div>\n",
       "<style scoped>\n",
       "    .dataframe tbody tr th:only-of-type {\n",
       "        vertical-align: middle;\n",
       "    }\n",
       "\n",
       "    .dataframe tbody tr th {\n",
       "        vertical-align: top;\n",
       "    }\n",
       "\n",
       "    .dataframe thead th {\n",
       "        text-align: right;\n",
       "    }\n",
       "</style>\n",
       "<table border=\"1\" class=\"dataframe\">\n",
       "  <thead>\n",
       "    <tr style=\"text-align: right;\">\n",
       "      <th></th>\n",
       "      <th>PropiedadS</th>\n",
       "      <th>Dolares</th>\n",
       "      <th>DolaresM2</th>\n",
       "      <th>Ambientes</th>\n",
       "      <th>Comunas</th>\n",
       "    </tr>\n",
       "  </thead>\n",
       "  <tbody>\n",
       "    <tr>\n",
       "      <th>0</th>\n",
       "      <td>17</td>\n",
       "      <td>54900</td>\n",
       "      <td>3229</td>\n",
       "      <td>1</td>\n",
       "      <td>5</td>\n",
       "    </tr>\n",
       "    <tr>\n",
       "      <th>1</th>\n",
       "      <td>18</td>\n",
       "      <td>53000</td>\n",
       "      <td>2944</td>\n",
       "      <td>1</td>\n",
       "      <td>5</td>\n",
       "    </tr>\n",
       "    <tr>\n",
       "      <th>2</th>\n",
       "      <td>25</td>\n",
       "      <td>45000</td>\n",
       "      <td>2500</td>\n",
       "      <td>1</td>\n",
       "      <td>5</td>\n",
       "    </tr>\n",
       "    <tr>\n",
       "      <th>3</th>\n",
       "      <td>18</td>\n",
       "      <td>41000</td>\n",
       "      <td>2278</td>\n",
       "      <td>1</td>\n",
       "      <td>5</td>\n",
       "    </tr>\n",
       "    <tr>\n",
       "      <th>4</th>\n",
       "      <td>18</td>\n",
       "      <td>58900</td>\n",
       "      <td>3272</td>\n",
       "      <td>1</td>\n",
       "      <td>5</td>\n",
       "    </tr>\n",
       "    <tr>\n",
       "      <th>...</th>\n",
       "      <td>...</td>\n",
       "      <td>...</td>\n",
       "      <td>...</td>\n",
       "      <td>...</td>\n",
       "      <td>...</td>\n",
       "    </tr>\n",
       "    <tr>\n",
       "      <th>156253</th>\n",
       "      <td>50</td>\n",
       "      <td>150000</td>\n",
       "      <td>3000</td>\n",
       "      <td>2</td>\n",
       "      <td>7</td>\n",
       "    </tr>\n",
       "    <tr>\n",
       "      <th>156254</th>\n",
       "      <td>67</td>\n",
       "      <td>147000</td>\n",
       "      <td>2194</td>\n",
       "      <td>3</td>\n",
       "      <td>7</td>\n",
       "    </tr>\n",
       "    <tr>\n",
       "      <th>156255</th>\n",
       "      <td>65</td>\n",
       "      <td>119000</td>\n",
       "      <td>1831</td>\n",
       "      <td>3</td>\n",
       "      <td>7</td>\n",
       "    </tr>\n",
       "    <tr>\n",
       "      <th>156256</th>\n",
       "      <td>48</td>\n",
       "      <td>85000</td>\n",
       "      <td>1771</td>\n",
       "      <td>3</td>\n",
       "      <td>7</td>\n",
       "    </tr>\n",
       "    <tr>\n",
       "      <th>156257</th>\n",
       "      <td>45</td>\n",
       "      <td>57000</td>\n",
       "      <td>1267</td>\n",
       "      <td>2</td>\n",
       "      <td>8</td>\n",
       "    </tr>\n",
       "  </tbody>\n",
       "</table>\n",
       "<p>156258 rows × 5 columns</p>\n",
       "</div>"
      ],
      "text/plain": [
       "        PropiedadS  Dolares  DolaresM2  Ambientes  Comunas\n",
       "0               17    54900       3229          1        5\n",
       "1               18    53000       2944          1        5\n",
       "2               25    45000       2500          1        5\n",
       "3               18    41000       2278          1        5\n",
       "4               18    58900       3272          1        5\n",
       "...            ...      ...        ...        ...      ...\n",
       "156253          50   150000       3000          2        7\n",
       "156254          67   147000       2194          3        7\n",
       "156255          65   119000       1831          3        7\n",
       "156256          48    85000       1771          3        7\n",
       "156257          45    57000       1267          2        8\n",
       "\n",
       "[156258 rows x 5 columns]"
      ]
     },
     "execution_count": 24,
     "metadata": {},
     "output_type": "execute_result"
    }
   ],
   "source": [
    "df_dept = df_dept.drop(['Pesos', 'PesosM2', 'Cotizacion', 'Trimestre', 'Barrio', 'Direccion'], axis=1)\n",
    "df_dept"
   ]
  },
  {
   "cell_type": "code",
   "execution_count": 25,
   "metadata": {},
   "outputs": [
    {
     "data": {
      "text/html": [
       "<div>\n",
       "<style scoped>\n",
       "    .dataframe tbody tr th:only-of-type {\n",
       "        vertical-align: middle;\n",
       "    }\n",
       "\n",
       "    .dataframe tbody tr th {\n",
       "        vertical-align: top;\n",
       "    }\n",
       "\n",
       "    .dataframe thead th {\n",
       "        text-align: right;\n",
       "    }\n",
       "</style>\n",
       "<table border=\"1\" class=\"dataframe\">\n",
       "  <thead>\n",
       "    <tr style=\"text-align: right;\">\n",
       "      <th></th>\n",
       "      <th>CantidadM2</th>\n",
       "      <th>Dolares</th>\n",
       "      <th>DolaresM2</th>\n",
       "      <th>Ambientes</th>\n",
       "      <th>Comunas</th>\n",
       "    </tr>\n",
       "  </thead>\n",
       "  <tbody>\n",
       "    <tr>\n",
       "      <th>0</th>\n",
       "      <td>17</td>\n",
       "      <td>54900</td>\n",
       "      <td>3229</td>\n",
       "      <td>1</td>\n",
       "      <td>5</td>\n",
       "    </tr>\n",
       "    <tr>\n",
       "      <th>1</th>\n",
       "      <td>18</td>\n",
       "      <td>53000</td>\n",
       "      <td>2944</td>\n",
       "      <td>1</td>\n",
       "      <td>5</td>\n",
       "    </tr>\n",
       "    <tr>\n",
       "      <th>2</th>\n",
       "      <td>25</td>\n",
       "      <td>45000</td>\n",
       "      <td>2500</td>\n",
       "      <td>1</td>\n",
       "      <td>5</td>\n",
       "    </tr>\n",
       "    <tr>\n",
       "      <th>3</th>\n",
       "      <td>18</td>\n",
       "      <td>41000</td>\n",
       "      <td>2278</td>\n",
       "      <td>1</td>\n",
       "      <td>5</td>\n",
       "    </tr>\n",
       "    <tr>\n",
       "      <th>4</th>\n",
       "      <td>18</td>\n",
       "      <td>58900</td>\n",
       "      <td>3272</td>\n",
       "      <td>1</td>\n",
       "      <td>5</td>\n",
       "    </tr>\n",
       "  </tbody>\n",
       "</table>\n",
       "</div>"
      ],
      "text/plain": [
       "   CantidadM2  Dolares  DolaresM2  Ambientes  Comunas\n",
       "0          17    54900       3229          1        5\n",
       "1          18    53000       2944          1        5\n",
       "2          25    45000       2500          1        5\n",
       "3          18    41000       2278          1        5\n",
       "4          18    58900       3272          1        5"
      ]
     },
     "execution_count": 25,
     "metadata": {},
     "output_type": "execute_result"
    }
   ],
   "source": [
    "# Cambio el nombre de propiedades por precio por metro cuadrado\n",
    "df_dept = df_dept.rename(columns={'PropiedadS':'CantidadM2'})\n",
    "df_dept.head()"
   ]
  },
  {
   "cell_type": "markdown",
   "metadata": {},
   "source": [
    "### Analizando outliers"
   ]
  },
  {
   "cell_type": "code",
   "execution_count": 26,
   "metadata": {},
   "outputs": [
    {
     "data": {
      "text/plain": [
       "Text(0, 0.5, 'DolaresM2')"
      ]
     },
     "execution_count": 26,
     "metadata": {},
     "output_type": "execute_result"
    },
    {
     "data": {
      "image/png": "[encoded data removed]",
      "text/plain": [
       "<Figure size 432x288 with 1 Axes>"
      ]
     },
     "metadata": {
      "needs_background": "light"
     },
     "output_type": "display_data"
    }
   ],
   "source": [
    "plt.scatter(df_dept['Comunas'],df_dept['DolaresM2'])\n",
    "plt.title(\"Total de dolares por metro cuadrado en diferentes comunas\")\n",
    "plt.xlabel(\"Comuna\")\n",
    "plt.ylabel(\"DolaresM2\")"
   ]
  },
  {
   "cell_type": "code",
   "execution_count": 27,
   "metadata": {},
   "outputs": [
    {
     "data": {
      "text/plain": [
       "Text(0, 0.5, 'DolaresM2')"
      ]
     },
     "execution_count": 27,
     "metadata": {},
     "output_type": "execute_result"
    },
    {
     "data": {
      "image/png": "[encoded data removed]",
      "text/plain": [
       "<Figure size 432x288 with 1 Axes>"
      ]
     },
     "metadata": {
      "needs_background": "light"
     },
     "output_type": "display_data"
    }
   ],
   "source": [
    "df_dept.sort_values(by=\"DolaresM2\", ascending=False)\n",
    "#df_dept = df_dept[df_dept[\"DolaresM2\"] < 20000]\n",
    "\n",
    "plt.scatter(df_dept['Comunas'],df_dept['DolaresM2'])\n",
    "plt.title(\"Total de dolares por metro cuadrado en diferentes comunas\")\n",
    "plt.xlabel(\"Comuna\")\n",
    "plt.ylabel(\"DolaresM2\")"
   ]
  },
  {
   "cell_type": "code",
   "execution_count": 28,
   "metadata": {},
   "outputs": [
    {
     "data": {
      "image/png": "[encoded data removed]",
      "text/plain": [
       "<Figure size 432x288 with 1 Axes>"
      ]
     },
     "metadata": {
      "needs_background": "light"
     },
     "output_type": "display_data"
    }
   ],
   "source": [
    "plt.scatter(df_dept[\"Comunas\"], df_dept[\"Dolares\"])\n",
    "plt.show()"
   ]
  },
  {
   "cell_type": "code",
   "execution_count": 29,
   "metadata": {},
   "outputs": [
    {
     "data": {
      "text/html": [
       "<div>\n",
       "<style scoped>\n",
       "    .dataframe tbody tr th:only-of-type {\n",
       "        vertical-align: middle;\n",
       "    }\n",
       "\n",
       "    .dataframe tbody tr th {\n",
       "        vertical-align: top;\n",
       "    }\n",
       "\n",
       "    .dataframe thead th {\n",
       "        text-align: right;\n",
       "    }\n",
       "</style>\n",
       "<table border=\"1\" class=\"dataframe\">\n",
       "  <thead>\n",
       "    <tr style=\"text-align: right;\">\n",
       "      <th></th>\n",
       "      <th>CantidadM2</th>\n",
       "      <th>Dolares</th>\n",
       "      <th>DolaresM2</th>\n",
       "      <th>Ambientes</th>\n",
       "      <th>Comunas</th>\n",
       "    </tr>\n",
       "  </thead>\n",
       "  <tbody>\n",
       "    <tr>\n",
       "      <th>40591</th>\n",
       "      <td>17180</td>\n",
       "      <td>500000</td>\n",
       "      <td>3597</td>\n",
       "      <td>4</td>\n",
       "      <td>13</td>\n",
       "    </tr>\n",
       "    <tr>\n",
       "      <th>39385</th>\n",
       "      <td>11100</td>\n",
       "      <td>360000</td>\n",
       "      <td>3273</td>\n",
       "      <td>4</td>\n",
       "      <td>9</td>\n",
       "    </tr>\n",
       "    <tr>\n",
       "      <th>26691</th>\n",
       "      <td>7101</td>\n",
       "      <td>227232</td>\n",
       "      <td>3787</td>\n",
       "      <td>2</td>\n",
       "      <td>14</td>\n",
       "    </tr>\n",
       "    <tr>\n",
       "      <th>16512</th>\n",
       "      <td>5927</td>\n",
       "      <td>129811</td>\n",
       "      <td>2649</td>\n",
       "      <td>2</td>\n",
       "      <td>13</td>\n",
       "    </tr>\n",
       "    <tr>\n",
       "      <th>16499</th>\n",
       "      <td>5827</td>\n",
       "      <td>133178</td>\n",
       "      <td>2774</td>\n",
       "      <td>2</td>\n",
       "      <td>13</td>\n",
       "    </tr>\n",
       "    <tr>\n",
       "      <th>...</th>\n",
       "      <td>...</td>\n",
       "      <td>...</td>\n",
       "      <td>...</td>\n",
       "      <td>...</td>\n",
       "      <td>...</td>\n",
       "    </tr>\n",
       "    <tr>\n",
       "      <th>152896</th>\n",
       "      <td>13</td>\n",
       "      <td>37000</td>\n",
       "      <td>2846</td>\n",
       "      <td>1</td>\n",
       "      <td>4</td>\n",
       "    </tr>\n",
       "    <tr>\n",
       "      <th>155884</th>\n",
       "      <td>13</td>\n",
       "      <td>37000</td>\n",
       "      <td>2846</td>\n",
       "      <td>1</td>\n",
       "      <td>4</td>\n",
       "    </tr>\n",
       "    <tr>\n",
       "      <th>3235</th>\n",
       "      <td>12</td>\n",
       "      <td>37000</td>\n",
       "      <td>3083</td>\n",
       "      <td>2</td>\n",
       "      <td>1</td>\n",
       "    </tr>\n",
       "    <tr>\n",
       "      <th>4838</th>\n",
       "      <td>12</td>\n",
       "      <td>22000</td>\n",
       "      <td>1833</td>\n",
       "      <td>2</td>\n",
       "      <td>4</td>\n",
       "    </tr>\n",
       "    <tr>\n",
       "      <th>146229</th>\n",
       "      <td>11</td>\n",
       "      <td>520000</td>\n",
       "      <td>47273</td>\n",
       "      <td>3</td>\n",
       "      <td>14</td>\n",
       "    </tr>\n",
       "  </tbody>\n",
       "</table>\n",
       "<p>156258 rows × 5 columns</p>\n",
       "</div>"
      ],
      "text/plain": [
       "        CantidadM2  Dolares  DolaresM2  Ambientes  Comunas\n",
       "40591        17180   500000       3597          4       13\n",
       "39385        11100   360000       3273          4        9\n",
       "26691         7101   227232       3787          2       14\n",
       "16512         5927   129811       2649          2       13\n",
       "16499         5827   133178       2774          2       13\n",
       "...            ...      ...        ...        ...      ...\n",
       "152896          13    37000       2846          1        4\n",
       "155884          13    37000       2846          1        4\n",
       "3235            12    37000       3083          2        1\n",
       "4838            12    22000       1833          2        4\n",
       "146229          11   520000      47273          3       14\n",
       "\n",
       "[156258 rows x 5 columns]"
      ]
     },
     "execution_count": 29,
     "metadata": {},
     "output_type": "execute_result"
    }
   ],
   "source": [
    "df_dept.sort_values(by=\"CantidadM2\", ascending=False)"
   ]
  },
  {
   "cell_type": "code",
   "execution_count": 30,
   "metadata": {},
   "outputs": [
    {
     "data": {
      "text/html": [
       "<div>\n",
       "<style scoped>\n",
       "    .dataframe tbody tr th:only-of-type {\n",
       "        vertical-align: middle;\n",
       "    }\n",
       "\n",
       "    .dataframe tbody tr th {\n",
       "        vertical-align: top;\n",
       "    }\n",
       "\n",
       "    .dataframe thead th {\n",
       "        text-align: right;\n",
       "    }\n",
       "</style>\n",
       "<table border=\"1\" class=\"dataframe\">\n",
       "  <thead>\n",
       "    <tr style=\"text-align: right;\">\n",
       "      <th></th>\n",
       "      <th>CantidadM2</th>\n",
       "      <th>Dolares</th>\n",
       "      <th>DolaresM2</th>\n",
       "      <th>Ambientes</th>\n",
       "      <th>Comunas</th>\n",
       "    </tr>\n",
       "  </thead>\n",
       "  <tbody>\n",
       "    <tr>\n",
       "      <th>137534</th>\n",
       "      <td>51</td>\n",
       "      <td>300224</td>\n",
       "      <td>5887</td>\n",
       "      <td>2</td>\n",
       "      <td>13</td>\n",
       "    </tr>\n",
       "    <tr>\n",
       "      <th>21147</th>\n",
       "      <td>51</td>\n",
       "      <td>250000</td>\n",
       "      <td>4902</td>\n",
       "      <td>3</td>\n",
       "      <td>13</td>\n",
       "    </tr>\n",
       "    <tr>\n",
       "      <th>21148</th>\n",
       "      <td>51</td>\n",
       "      <td>173000</td>\n",
       "      <td>3392</td>\n",
       "      <td>2</td>\n",
       "      <td>13</td>\n",
       "    </tr>\n",
       "    <tr>\n",
       "      <th>21149</th>\n",
       "      <td>51</td>\n",
       "      <td>152230</td>\n",
       "      <td>2985</td>\n",
       "      <td>3</td>\n",
       "      <td>13</td>\n",
       "    </tr>\n",
       "    <tr>\n",
       "      <th>21150</th>\n",
       "      <td>51</td>\n",
       "      <td>142000</td>\n",
       "      <td>2784</td>\n",
       "      <td>3</td>\n",
       "      <td>13</td>\n",
       "    </tr>\n",
       "    <tr>\n",
       "      <th>...</th>\n",
       "      <td>...</td>\n",
       "      <td>...</td>\n",
       "      <td>...</td>\n",
       "      <td>...</td>\n",
       "      <td>...</td>\n",
       "    </tr>\n",
       "    <tr>\n",
       "      <th>94639</th>\n",
       "      <td>199</td>\n",
       "      <td>301498</td>\n",
       "      <td>1515</td>\n",
       "      <td>3</td>\n",
       "      <td>1</td>\n",
       "    </tr>\n",
       "    <tr>\n",
       "      <th>38169</th>\n",
       "      <td>199</td>\n",
       "      <td>559000</td>\n",
       "      <td>5082</td>\n",
       "      <td>4</td>\n",
       "      <td>6</td>\n",
       "    </tr>\n",
       "    <tr>\n",
       "      <th>47096</th>\n",
       "      <td>199</td>\n",
       "      <td>200000</td>\n",
       "      <td>1004</td>\n",
       "      <td>4</td>\n",
       "      <td>3</td>\n",
       "    </tr>\n",
       "    <tr>\n",
       "      <th>84940</th>\n",
       "      <td>199</td>\n",
       "      <td>720000</td>\n",
       "      <td>3618</td>\n",
       "      <td>5</td>\n",
       "      <td>6</td>\n",
       "    </tr>\n",
       "    <tr>\n",
       "      <th>44632</th>\n",
       "      <td>199</td>\n",
       "      <td>199000</td>\n",
       "      <td>1746</td>\n",
       "      <td>3</td>\n",
       "      <td>10</td>\n",
       "    </tr>\n",
       "  </tbody>\n",
       "</table>\n",
       "<p>87160 rows × 5 columns</p>\n",
       "</div>"
      ],
      "text/plain": [
       "        CantidadM2  Dolares  DolaresM2  Ambientes  Comunas\n",
       "137534          51   300224       5887          2       13\n",
       "21147           51   250000       4902          3       13\n",
       "21148           51   173000       3392          2       13\n",
       "21149           51   152230       2985          3       13\n",
       "21150           51   142000       2784          3       13\n",
       "...            ...      ...        ...        ...      ...\n",
       "94639          199   301498       1515          3        1\n",
       "38169          199   559000       5082          4        6\n",
       "47096          199   200000       1004          4        3\n",
       "84940          199   720000       3618          5        6\n",
       "44632          199   199000       1746          3       10\n",
       "\n",
       "[87160 rows x 5 columns]"
      ]
     },
     "execution_count": 30,
     "metadata": {},
     "output_type": "execute_result"
    }
   ],
   "source": [
    "# Filtro en un rango de 20-200 M2 lo cúal es más común para un departamento residencial\n",
    "condicionA = df_dept[\"CantidadM2\"] < 200\n",
    "condicionB = df_dept[\"CantidadM2\"] > 50\n",
    "df_dept = df_dept[condicionA & condicionB ]\n",
    "df_dept.sort_values(by=\"CantidadM2\")"
   ]
  },
  {
   "cell_type": "code",
   "execution_count": 31,
   "metadata": {},
   "outputs": [
    {
     "data": {
      "text/html": [
       "<div>\n",
       "<style scoped>\n",
       "    .dataframe tbody tr th:only-of-type {\n",
       "        vertical-align: middle;\n",
       "    }\n",
       "\n",
       "    .dataframe tbody tr th {\n",
       "        vertical-align: top;\n",
       "    }\n",
       "\n",
       "    .dataframe thead th {\n",
       "        text-align: right;\n",
       "    }\n",
       "</style>\n",
       "<table border=\"1\" class=\"dataframe\">\n",
       "  <thead>\n",
       "    <tr style=\"text-align: right;\">\n",
       "      <th></th>\n",
       "      <th>CantidadM2</th>\n",
       "      <th>Dolares</th>\n",
       "      <th>DolaresM2</th>\n",
       "      <th>Ambientes</th>\n",
       "      <th>Comunas</th>\n",
       "    </tr>\n",
       "  </thead>\n",
       "  <tbody>\n",
       "    <tr>\n",
       "      <th>46834</th>\n",
       "      <td>58</td>\n",
       "      <td>31050</td>\n",
       "      <td>535</td>\n",
       "      <td>2</td>\n",
       "      <td>9</td>\n",
       "    </tr>\n",
       "    <tr>\n",
       "      <th>19508</th>\n",
       "      <td>51</td>\n",
       "      <td>31599</td>\n",
       "      <td>735</td>\n",
       "      <td>2</td>\n",
       "      <td>11</td>\n",
       "    </tr>\n",
       "    <tr>\n",
       "      <th>46852</th>\n",
       "      <td>51</td>\n",
       "      <td>31599</td>\n",
       "      <td>620</td>\n",
       "      <td>2</td>\n",
       "      <td>11</td>\n",
       "    </tr>\n",
       "    <tr>\n",
       "      <th>46843</th>\n",
       "      <td>55</td>\n",
       "      <td>31600</td>\n",
       "      <td>574</td>\n",
       "      <td>3</td>\n",
       "      <td>5</td>\n",
       "    </tr>\n",
       "    <tr>\n",
       "      <th>24057</th>\n",
       "      <td>55</td>\n",
       "      <td>31600</td>\n",
       "      <td>574</td>\n",
       "      <td>3</td>\n",
       "      <td>5</td>\n",
       "    </tr>\n",
       "    <tr>\n",
       "      <th>...</th>\n",
       "      <td>...</td>\n",
       "      <td>...</td>\n",
       "      <td>...</td>\n",
       "      <td>...</td>\n",
       "      <td>...</td>\n",
       "    </tr>\n",
       "    <tr>\n",
       "      <th>42743</th>\n",
       "      <td>110</td>\n",
       "      <td>749000</td>\n",
       "      <td>7416</td>\n",
       "      <td>3</td>\n",
       "      <td>1</td>\n",
       "    </tr>\n",
       "    <tr>\n",
       "      <th>42123</th>\n",
       "      <td>150</td>\n",
       "      <td>749000</td>\n",
       "      <td>5350</td>\n",
       "      <td>4</td>\n",
       "      <td>14</td>\n",
       "    </tr>\n",
       "    <tr>\n",
       "      <th>41845</th>\n",
       "      <td>117</td>\n",
       "      <td>749000</td>\n",
       "      <td>6402</td>\n",
       "      <td>3</td>\n",
       "      <td>14</td>\n",
       "    </tr>\n",
       "    <tr>\n",
       "      <th>137712</th>\n",
       "      <td>120</td>\n",
       "      <td>749000</td>\n",
       "      <td>6242</td>\n",
       "      <td>3</td>\n",
       "      <td>1</td>\n",
       "    </tr>\n",
       "    <tr>\n",
       "      <th>133607</th>\n",
       "      <td>190</td>\n",
       "      <td>749000</td>\n",
       "      <td>3942</td>\n",
       "      <td>4</td>\n",
       "      <td>13</td>\n",
       "    </tr>\n",
       "  </tbody>\n",
       "</table>\n",
       "<p>85566 rows × 5 columns</p>\n",
       "</div>"
      ],
      "text/plain": [
       "        CantidadM2  Dolares  DolaresM2  Ambientes  Comunas\n",
       "46834           58    31050        535          2        9\n",
       "19508           51    31599        735          2       11\n",
       "46852           51    31599        620          2       11\n",
       "46843           55    31600        574          3        5\n",
       "24057           55    31600        574          3        5\n",
       "...            ...      ...        ...        ...      ...\n",
       "42743          110   749000       7416          3        1\n",
       "42123          150   749000       5350          4       14\n",
       "41845          117   749000       6402          3       14\n",
       "137712         120   749000       6242          3        1\n",
       "133607         190   749000       3942          4       13\n",
       "\n",
       "[85566 rows x 5 columns]"
      ]
     },
     "execution_count": 31,
     "metadata": {},
     "output_type": "execute_result"
    }
   ],
   "source": [
    "condicionA = df_dept[\"Dolares\"]>30000\n",
    "condicionB = df_dept[\"Dolares\"]<750000\n",
    "df_dept = df_dept[condicionA & condicionB]\n",
    "df_dept.sort_values(by=\"Dolares\")"
   ]
  },
  {
   "cell_type": "code",
   "execution_count": 32,
   "metadata": {},
   "outputs": [],
   "source": [
    "df_dept = df_dept[df_dept[\"Ambientes\"]<5]"
   ]
  },
  {
   "cell_type": "markdown",
   "metadata": {},
   "source": [
    "### Analizo la matriz de correlacion"
   ]
  },
  {
   "cell_type": "code",
   "execution_count": 33,
   "metadata": {},
   "outputs": [
    {
     "data": {
      "text/plain": [
       "<AxesSubplot:>"
      ]
     },
     "execution_count": 33,
     "metadata": {},
     "output_type": "execute_result"
    },
    {
     "data": {
      "image/png": "[encoded data removed]",
      "text/plain": [
       "<Figure size 864x576 with 2 Axes>"
      ]
     },
     "metadata": {
      "needs_background": "light"
     },
     "output_type": "display_data"
    }
   ],
   "source": [
    "plt.figure(figsize=(12,8))\n",
    "sns.heatmap(df_dept.corr(), annot=True, cmap=\"YlGnBu\")"
   ]
  },
  {
   "cell_type": "markdown",
   "metadata": {},
   "source": [
    "## Defino mis variables para el modelo"
   ]
  },
  {
   "cell_type": "code",
   "execution_count": 34,
   "metadata": {},
   "outputs": [],
   "source": [
    "response = df_dept[['Dolares']]\n",
    "predictors = df_dept.drop('Dolares', axis=1)"
   ]
  },
  {
   "cell_type": "markdown",
   "metadata": {},
   "source": [
    "#### En este dataframe mi unica variable Dummy es la columna 'comunas' ya que un departamento no puede tener n comunas pero si pertenecer a la comuna n"
   ]
  },
  {
   "cell_type": "code",
   "execution_count": 35,
   "metadata": {},
   "outputs": [
    {
     "data": {
      "text/html": [
       "<div>\n",
       "<style scoped>\n",
       "    .dataframe tbody tr th:only-of-type {\n",
       "        vertical-align: middle;\n",
       "    }\n",
       "\n",
       "    .dataframe tbody tr th {\n",
       "        vertical-align: top;\n",
       "    }\n",
       "\n",
       "    .dataframe thead th {\n",
       "        text-align: right;\n",
       "    }\n",
       "</style>\n",
       "<table border=\"1\" class=\"dataframe\">\n",
       "  <thead>\n",
       "    <tr style=\"text-align: right;\">\n",
       "      <th></th>\n",
       "      <th>CantidadM2</th>\n",
       "      <th>DolaresM2</th>\n",
       "      <th>Ambientes</th>\n",
       "      <th>Comunas_1</th>\n",
       "      <th>Comunas_2</th>\n",
       "      <th>Comunas_3</th>\n",
       "      <th>Comunas_4</th>\n",
       "      <th>Comunas_5</th>\n",
       "      <th>Comunas_6</th>\n",
       "      <th>Comunas_7</th>\n",
       "      <th>Comunas_8</th>\n",
       "      <th>Comunas_9</th>\n",
       "      <th>Comunas_10</th>\n",
       "      <th>Comunas_11</th>\n",
       "      <th>Comunas_12</th>\n",
       "      <th>Comunas_13</th>\n",
       "      <th>Comunas_14</th>\n",
       "      <th>Comunas_15</th>\n",
       "    </tr>\n",
       "  </thead>\n",
       "  <tbody>\n",
       "    <tr>\n",
       "      <th>28</th>\n",
       "      <td>78</td>\n",
       "      <td>3160</td>\n",
       "      <td>1</td>\n",
       "      <td>0</td>\n",
       "      <td>0</td>\n",
       "      <td>0</td>\n",
       "      <td>0</td>\n",
       "      <td>1</td>\n",
       "      <td>0</td>\n",
       "      <td>0</td>\n",
       "      <td>0</td>\n",
       "      <td>0</td>\n",
       "      <td>0</td>\n",
       "      <td>0</td>\n",
       "      <td>0</td>\n",
       "      <td>0</td>\n",
       "      <td>0</td>\n",
       "      <td>0</td>\n",
       "    </tr>\n",
       "    <tr>\n",
       "      <th>34</th>\n",
       "      <td>54</td>\n",
       "      <td>2808</td>\n",
       "      <td>2</td>\n",
       "      <td>0</td>\n",
       "      <td>0</td>\n",
       "      <td>0</td>\n",
       "      <td>0</td>\n",
       "      <td>1</td>\n",
       "      <td>0</td>\n",
       "      <td>0</td>\n",
       "      <td>0</td>\n",
       "      <td>0</td>\n",
       "      <td>0</td>\n",
       "      <td>0</td>\n",
       "      <td>0</td>\n",
       "      <td>0</td>\n",
       "      <td>0</td>\n",
       "      <td>0</td>\n",
       "    </tr>\n",
       "    <tr>\n",
       "      <th>112</th>\n",
       "      <td>60</td>\n",
       "      <td>2900</td>\n",
       "      <td>1</td>\n",
       "      <td>0</td>\n",
       "      <td>0</td>\n",
       "      <td>0</td>\n",
       "      <td>0</td>\n",
       "      <td>1</td>\n",
       "      <td>0</td>\n",
       "      <td>0</td>\n",
       "      <td>0</td>\n",
       "      <td>0</td>\n",
       "      <td>0</td>\n",
       "      <td>0</td>\n",
       "      <td>0</td>\n",
       "      <td>0</td>\n",
       "      <td>0</td>\n",
       "      <td>0</td>\n",
       "    </tr>\n",
       "    <tr>\n",
       "      <th>222</th>\n",
       "      <td>52</td>\n",
       "      <td>3750</td>\n",
       "      <td>2</td>\n",
       "      <td>0</td>\n",
       "      <td>0</td>\n",
       "      <td>0</td>\n",
       "      <td>0</td>\n",
       "      <td>1</td>\n",
       "      <td>0</td>\n",
       "      <td>0</td>\n",
       "      <td>0</td>\n",
       "      <td>0</td>\n",
       "      <td>0</td>\n",
       "      <td>0</td>\n",
       "      <td>0</td>\n",
       "      <td>0</td>\n",
       "      <td>0</td>\n",
       "      <td>0</td>\n",
       "    </tr>\n",
       "    <tr>\n",
       "      <th>238</th>\n",
       "      <td>59</td>\n",
       "      <td>4091</td>\n",
       "      <td>1</td>\n",
       "      <td>0</td>\n",
       "      <td>0</td>\n",
       "      <td>0</td>\n",
       "      <td>0</td>\n",
       "      <td>1</td>\n",
       "      <td>0</td>\n",
       "      <td>0</td>\n",
       "      <td>0</td>\n",
       "      <td>0</td>\n",
       "      <td>0</td>\n",
       "      <td>0</td>\n",
       "      <td>0</td>\n",
       "      <td>0</td>\n",
       "      <td>0</td>\n",
       "      <td>0</td>\n",
       "    </tr>\n",
       "  </tbody>\n",
       "</table>\n",
       "</div>"
      ],
      "text/plain": [
       "     CantidadM2  DolaresM2  Ambientes  Comunas_1  Comunas_2  Comunas_3  \\\n",
       "28           78       3160          1          0          0          0   \n",
       "34           54       2808          2          0          0          0   \n",
       "112          60       2900          1          0          0          0   \n",
       "222          52       3750          2          0          0          0   \n",
       "238          59       4091          1          0          0          0   \n",
       "\n",
       "     Comunas_4  Comunas_5  Comunas_6  Comunas_7  Comunas_8  Comunas_9  \\\n",
       "28           0          1          0          0          0          0   \n",
       "34           0          1          0          0          0          0   \n",
       "112          0          1          0          0          0          0   \n",
       "222          0          1          0          0          0          0   \n",
       "238          0          1          0          0          0          0   \n",
       "\n",
       "     Comunas_10  Comunas_11  Comunas_12  Comunas_13  Comunas_14  Comunas_15  \n",
       "28            0           0           0           0           0           0  \n",
       "34            0           0           0           0           0           0  \n",
       "112           0           0           0           0           0           0  \n",
       "222           0           0           0           0           0           0  \n",
       "238           0           0           0           0           0           0  "
      ]
     },
     "execution_count": 35,
     "metadata": {},
     "output_type": "execute_result"
    }
   ],
   "source": [
    "predictors = pd.get_dummies(predictors, columns=[\"Comunas\"])\n",
    "predictors.head()"
   ]
  },
  {
   "cell_type": "markdown",
   "metadata": {},
   "source": [
    "## Separando la muestra del dataset"
   ]
  },
  {
   "cell_type": "code",
   "execution_count": 36,
   "metadata": {},
   "outputs": [],
   "source": [
    "from sklearn.model_selection import train_test_split\n",
    "predictors_train, predictors_test, response_train, response_test = train_test_split(predictors, response, test_size=0.2, random_state=42)"
   ]
  },
  {
   "cell_type": "code",
   "execution_count": 37,
   "metadata": {},
   "outputs": [
    {
     "data": {
      "text/plain": [
       "0.8912958770794186"
      ]
     },
     "execution_count": 37,
     "metadata": {},
     "output_type": "execute_result"
    }
   ],
   "source": [
    "# Decido utilizar un modelo de regresion lineal\n",
    "from sklearn.linear_model import LinearRegression\n",
    "\n",
    "model = LinearRegression()\n",
    "model.fit(predictors_train,response_train)\n",
    "model.score(predictors_train,response_train)"
   ]
  },
  {
   "cell_type": "code",
   "execution_count": 38,
   "metadata": {},
   "outputs": [
    {
     "name": "stdout",
     "output_type": "stream",
     "text": [
      "Pendiente(m):  [[ 2333.23488352    77.0424018  13637.18777692  6450.81510456\n",
      "   7662.38166337 -3013.72549625 -1512.55761925 -2836.98810657\n",
      "  -1387.17673129 -3244.7697093   -692.55305268 -2893.81166074\n",
      "  -3312.13935305 -1577.34349908 -4444.80835122  4495.57563233\n",
      "   7982.15379666 -1675.05261748]]\n",
      "Interseccion(b):  [-227666.17791624]\n"
     ]
    }
   ],
   "source": [
    "print(\"Pendiente(m): \", model.coef_)\n",
    "print(\"Interseccion(b): \",model.intercept_)"
   ]
  },
  {
   "cell_type": "code",
   "execution_count": 39,
   "metadata": {},
   "outputs": [
    {
     "data": {
      "text/plain": [
       "array([[71568.93017723]])"
      ]
     },
     "execution_count": 39,
     "metadata": {},
     "output_type": "execute_result"
    }
   ],
   "source": [
    "entrada = [[17, 3229, 1, 0,0,0,0,1,0,0,0,0,0,0,0,0,0,0]]\n",
    "modelo = model.fit(predictors_train, response_train)\n",
    "modelo.predict(entrada)"
   ]
  },
  {
   "cell_type": "code",
   "execution_count": 40,
   "metadata": {},
   "outputs": [
    {
     "data": {
      "text/plain": [
       "array([[299419.44659324]])"
      ]
     },
     "execution_count": 40,
     "metadata": {},
     "output_type": "execute_result"
    }
   ],
   "source": [
    "entrada = [[96,3303.65, 3, 0,1,0,0,0,0,0,0,0,0,0,0,0,0,0]]\n",
    "modelo = model.fit(predictors_train, response_train)\n",
    "modelo.predict(entrada)"
   ]
  },
  {
   "cell_type": "code",
   "execution_count": 41,
   "metadata": {},
   "outputs": [
    {
     "name": "stdout",
     "output_type": "stream",
     "text": [
      "Ingrese la cantidad de metros cuadrados que tiene el departamento: 96\n",
      "Ingrese el valor total de dolares por metro cuadrado: 3303\n",
      "Ingrese el numero de ambientes: 2\n",
      "Ingrese el numero de comuna: 4\n"
     ]
    },
    {
     "data": {
      "text/plain": [
       "array([[276557.24197253]])"
      ]
     },
     "execution_count": 41,
     "metadata": {},
     "output_type": "execute_result"
    }
   ],
   "source": [
    "cant_propiedades=int(input(\"Ingrese la cantidad de metros cuadrados que tiene el departamento: \"))\n",
    "dolaresM2=float(input(\"Ingrese el valor total de dolares por metro cuadrado: \"))\n",
    "cant_ambientes=int(input(\"Ingrese el numero de ambientes: \"))\n",
    "num_comuna=int(input(\"Ingrese el numero de comuna: \"))\n",
    "\n",
    "#Seteo por default en 0 para despues solo cambiar el valor que corresponde\n",
    "entrada = [[cant_propiedades,dolaresM2, cant_ambientes, 0,0,0,0,0,0,0,0,0,0,0,0,0,0,0]]\n",
    "\n",
    "for i in range(1,16):\n",
    "    if num_comuna == i:\n",
    "        entrada[0][i+2] = 1\n",
    "\n",
    "modelo.predict(entrada)"
   ]
  },
  {
   "cell_type": "code",
   "execution_count": 42,
   "metadata": {},
   "outputs": [
    {
     "name": "stdout",
     "output_type": "stream",
     "text": [
      "1395557269.3682606\n",
      "0.894395701395145\n"
     ]
    }
   ],
   "source": [
    "from sklearn.metrics import mean_squared_error, r2_score\n",
    "\n",
    "y_pred=modelo.predict(predictors_test)\n",
    "mse=mean_squared_error(response_test,y_pred)\n",
    "r2=r2_score(response_test,y_pred)\n",
    "print(mse)\n",
    "print(r2)"
   ]
  },
  {
   "cell_type": "code",
   "execution_count": 44,
   "metadata": {},
   "outputs": [
    {
     "name": "stdout",
     "output_type": "stream",
     "text": [
      "Dolares    149.641058\n",
      "dtype: float64\n"
     ]
    },
    {
     "data": {
      "text/plain": [
       "Dolares    37807.014763\n",
       "dtype: float64"
      ]
     },
     "execution_count": 44,
     "metadata": {},
     "output_type": "execute_result"
    }
   ],
   "source": [
    "# Residuals margen de error\n",
    "response_predictions=modelo.predict(predictors)\n",
    "residuals=response-response_predictions\n",
    "print(residuals.mean())\n",
    "residuals.std()"
   ]
  },
  {
   "cell_type": "code",
   "execution_count": 45,
   "metadata": {},
   "outputs": [
    {
     "data": {
      "text/plain": [
       "[<matplotlib.lines.Line2D at 0x18afabfb880>]"
      ]
     },
     "execution_count": 45,
     "metadata": {},
     "output_type": "execute_result"
    },
    {
     "data": {
      "image/png": "[encoded data removed]",
      "text/plain": [
       "<Figure size 864x576 with 1 Axes>"
      ]
     },
     "metadata": {
      "needs_background": "light"
     },
     "output_type": "display_data"
    }
   ],
   "source": [
    "plt.figure(figsize=(12,8))\n",
    "plt.scatter(y_pred, response_test)\n",
    "plt.plot(range(0,750000), range(0,750000), c=\"red\")"
   ]
  },
  {
   "cell_type": "code",
   "execution_count": null,
   "metadata": {},
   "outputs": [],
   "source": []
  }
 ],
 "metadata": {
  "kernelspec": {
   "display_name": "Python 3",
   "language": "python",
   "name": "python3"
  },
  "language_info": {
   "codemirror_mode": {
    "name": "ipython",
    "version": 3
   },
   "file_extension": ".py",
   "mimetype": "text/x-python",
   "name": "python",
   "nbconvert_exporter": "python",
   "pygments_lexer": "ipython3",
   "version": "3.8.5"
  }
 },
 "nbformat": 4,
 "nbformat_minor": 4
}
