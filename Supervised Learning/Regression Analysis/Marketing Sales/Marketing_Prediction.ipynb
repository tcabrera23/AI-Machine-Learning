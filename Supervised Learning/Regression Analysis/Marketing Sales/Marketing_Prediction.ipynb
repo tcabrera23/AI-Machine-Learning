{
 "cells": [
  {
   "cell_type": "code",
   "execution_count": 1,
   "metadata": {},
   "outputs": [
    {
     "name": "stdout",
     "output_type": "stream",
     "text": [
      "   TV      Radio  Social Media Influencer       Sales\n",
      "0  33  22.703382      2.302986       Mega  118.874049\n",
      "1  91  28.080056      6.062589      Macro  322.373949\n",
      "2  68  19.535548      2.056270      Micro  245.082818\n",
      "3  52  13.560663      2.669573       Nano  187.774044\n",
      "4  34   7.110267      3.588867       Mega  119.843771\n"
     ]
    }
   ],
   "source": [
    "import pandas as pd\n",
    "marketing_dataset = pd.read_csv('marketing_data.csv')\n",
    "print(marketing_dataset.head())\n",
    "import numpy as np"
   ]
  },
  {
   "cell_type": "code",
   "execution_count": 2,
   "metadata": {},
   "outputs": [
    {
     "name": "stdout",
     "output_type": "stream",
     "text": [
      "<class 'pandas.core.frame.DataFrame'>\n",
      "RangeIndex: 4546 entries, 0 to 4545\n",
      "Data columns (total 5 columns):\n",
      " #   Column        Non-Null Count  Dtype  \n",
      "---  ------        --------------  -----  \n",
      " 0   TV            4546 non-null   int64  \n",
      " 1   Radio         4546 non-null   float64\n",
      " 2   Social Media  4546 non-null   float64\n",
      " 3   Influencer    4546 non-null   object \n",
      " 4   Sales         4546 non-null   float64\n",
      "dtypes: float64(3), int64(1), object(1)\n",
      "memory usage: 177.7+ KB\n"
     ]
    }
   ],
   "source": [
    "marketing_dataset.info()"
   ]
  },
  {
   "cell_type": "code",
   "execution_count": 3,
   "metadata": {},
   "outputs": [
    {
     "data": {
      "text/plain": [
       "Mega     1152\n",
       "Micro    1148\n",
       "Nano     1134\n",
       "Macro    1112\n",
       "Name: Influencer, dtype: int64"
      ]
     },
     "execution_count": 3,
     "metadata": {},
     "output_type": "execute_result"
    }
   ],
   "source": [
    "marketing_dataset[\"Influencer\"].value_counts()"
   ]
  },
  {
   "cell_type": "code",
   "execution_count": 4,
   "metadata": {},
   "outputs": [
    {
     "data": {
      "text/html": [
       "<div>\n",
       "<style scoped>\n",
       "    .dataframe tbody tr th:only-of-type {\n",
       "        vertical-align: middle;\n",
       "    }\n",
       "\n",
       "    .dataframe tbody tr th {\n",
       "        vertical-align: top;\n",
       "    }\n",
       "\n",
       "    .dataframe thead th {\n",
       "        text-align: right;\n",
       "    }\n",
       "</style>\n",
       "<table border=\"1\" class=\"dataframe\">\n",
       "  <thead>\n",
       "    <tr style=\"text-align: right;\">\n",
       "      <th></th>\n",
       "      <th>TV</th>\n",
       "      <th>Radio</th>\n",
       "      <th>Social Media</th>\n",
       "      <th>Sales</th>\n",
       "      <th>Influencer_Macro</th>\n",
       "      <th>Influencer_Mega</th>\n",
       "      <th>Influencer_Micro</th>\n",
       "      <th>Influencer_Nano</th>\n",
       "    </tr>\n",
       "  </thead>\n",
       "  <tbody>\n",
       "    <tr>\n",
       "      <th>0</th>\n",
       "      <td>33</td>\n",
       "      <td>22.703382</td>\n",
       "      <td>2.302986</td>\n",
       "      <td>118.874049</td>\n",
       "      <td>0</td>\n",
       "      <td>1</td>\n",
       "      <td>0</td>\n",
       "      <td>0</td>\n",
       "    </tr>\n",
       "    <tr>\n",
       "      <th>1</th>\n",
       "      <td>91</td>\n",
       "      <td>28.080056</td>\n",
       "      <td>6.062589</td>\n",
       "      <td>322.373949</td>\n",
       "      <td>1</td>\n",
       "      <td>0</td>\n",
       "      <td>0</td>\n",
       "      <td>0</td>\n",
       "    </tr>\n",
       "    <tr>\n",
       "      <th>2</th>\n",
       "      <td>68</td>\n",
       "      <td>19.535548</td>\n",
       "      <td>2.056270</td>\n",
       "      <td>245.082818</td>\n",
       "      <td>0</td>\n",
       "      <td>0</td>\n",
       "      <td>1</td>\n",
       "      <td>0</td>\n",
       "    </tr>\n",
       "    <tr>\n",
       "      <th>3</th>\n",
       "      <td>52</td>\n",
       "      <td>13.560663</td>\n",
       "      <td>2.669573</td>\n",
       "      <td>187.774044</td>\n",
       "      <td>0</td>\n",
       "      <td>0</td>\n",
       "      <td>0</td>\n",
       "      <td>1</td>\n",
       "    </tr>\n",
       "    <tr>\n",
       "      <th>4</th>\n",
       "      <td>34</td>\n",
       "      <td>7.110267</td>\n",
       "      <td>3.588867</td>\n",
       "      <td>119.843771</td>\n",
       "      <td>0</td>\n",
       "      <td>1</td>\n",
       "      <td>0</td>\n",
       "      <td>0</td>\n",
       "    </tr>\n",
       "  </tbody>\n",
       "</table>\n",
       "</div>"
      ],
      "text/plain": [
       "   TV      Radio  Social Media       Sales  Influencer_Macro  Influencer_Mega  \\\n",
       "0  33  22.703382      2.302986  118.874049                 0                1   \n",
       "1  91  28.080056      6.062589  322.373949                 1                0   \n",
       "2  68  19.535548      2.056270  245.082818                 0                0   \n",
       "3  52  13.560663      2.669573  187.774044                 0                0   \n",
       "4  34   7.110267      3.588867  119.843771                 0                1   \n",
       "\n",
       "   Influencer_Micro  Influencer_Nano  \n",
       "0                 0                0  \n",
       "1                 0                0  \n",
       "2                 1                0  \n",
       "3                 0                1  \n",
       "4                 0                0  "
      ]
     },
     "execution_count": 4,
     "metadata": {},
     "output_type": "execute_result"
    }
   ],
   "source": [
    "marketing_dataset=pd.get_dummies(marketing_dataset,columns=[\"Influencer\"])\n",
    "marketing_dataset.head()"
   ]
  },
  {
   "cell_type": "code",
   "execution_count": 6,
   "metadata": {},
   "outputs": [],
   "source": [
    "response=marketing_dataset[\"Sales\"]\n",
    "predictors=marketing_dataset[[\"TV\",\"Radio\",\"Social Media\", \"Influencer_Macro\", \"Influencer_Mega\", \"Influencer_Micro\",\n",
    "                            \"Influencer_Nano\"]]"
   ]
  },
  {
   "cell_type": "code",
   "execution_count": 7,
   "metadata": {},
   "outputs": [
    {
     "data": {
      "text/plain": [
       "<AxesSubplot:>"
      ]
     },
     "execution_count": 7,
     "metadata": {},
     "output_type": "execute_result"
    },
    {
     "data": {
      "image/png": "[encoded data removed]",
      "text/plain": [
       "<Figure size 432x288 with 2 Axes>"
      ]
     },
     "metadata": {
      "needs_background": "light"
     },
     "output_type": "display_data"
    }
   ],
   "source": [
    "import seaborn as sns\n",
    "# Excluyo las dummy variables ya que son categoricas\n",
    "correlation_matrix=marketing_dataset[[\"Sales\", \"TV\", \"Radio\", \"Social Media\"]].corr()\n",
    "correlation_matrix\n",
    "sns.heatmap(correlation_matrix,vmin=0.0,vmax=1.0,annot=True) "
   ]
  },
  {
   "cell_type": "code",
   "execution_count": 8,
   "metadata": {},
   "outputs": [],
   "source": [
    "predictors=marketing_dataset[[\"TV\",\"Social Media\", \"Influencer_Macro\", \"Influencer_Mega\", \"Influencer_Micro\",\n",
    "                            \"Influencer_Nano\"]]"
   ]
  },
  {
   "cell_type": "code",
   "execution_count": 9,
   "metadata": {},
   "outputs": [],
   "source": [
    "from sklearn.model_selection import train_test_split\n",
    "predictors_train, predictors_test, response_train, response_test = train_test_split(predictors, response, test_size=0.2, random_state=42)"
   ]
  },
  {
   "cell_type": "code",
   "execution_count": 10,
   "metadata": {},
   "outputs": [
    {
     "data": {
      "text/plain": [
       "<AxesSubplot:>"
      ]
     },
     "execution_count": 10,
     "metadata": {},
     "output_type": "execute_result"
    },
    {
     "data": {
      "image/png": "[encoded data removed]",
      "text/plain": [
       "<Figure size 432x288 with 2 Axes>"
      ]
     },
     "metadata": {
      "needs_background": "light"
     },
     "output_type": "display_data"
    }
   ],
   "source": [
    "# En caso de haber multiple relacion lineal (>|0.8|) tendremos que excluir la variable ya que es un valor duplicado\n",
    "# En este caso sacamos 'Radio'\n",
    "correlation_matrix=marketing_dataset[[\"Sales\", \"TV\", \"Social Media\"]].corr()\n",
    "correlation_matrix\n",
    "sns.heatmap(correlation_matrix,vmin=0.0,vmax=1.0,annot=True)"
   ]
  },
  {
   "cell_type": "code",
   "execution_count": 11,
   "metadata": {},
   "outputs": [],
   "source": [
    "# Evaluo mi modelo\n",
    "import sklearn.linear_model as skl\n",
    "linear_regression=skl.LinearRegression()\n",
    "modelo = linear_regression.fit(predictors_train,response_train)"
   ]
  },
  {
   "cell_type": "code",
   "execution_count": 12,
   "metadata": {},
   "outputs": [
    {
     "name": "stdout",
     "output_type": "stream",
     "text": [
      "[ 3.56178585 -0.0152527   0.11052927 -0.03381378 -0.01162365 -0.06509185]\n",
      "-0.05554964175999544\n"
     ]
    }
   ],
   "source": [
    "print(linear_regression.coef_)\n",
    "print(linear_regression.intercept_)"
   ]
  },
  {
   "cell_type": "code",
   "execution_count": 13,
   "metadata": {},
   "outputs": [
    {
     "data": {
      "text/plain": [
       "array([242.10290473])"
      ]
     },
     "execution_count": 13,
     "metadata": {},
     "output_type": "execute_result"
    }
   ],
   "source": [
    "entrada = [[68,2.056, 0, 0, 1, 0]]\n",
    "modelo.predict(entrada)"
   ]
  },
  {
   "cell_type": "code",
   "execution_count": 14,
   "metadata": {},
   "outputs": [
    {
     "data": {
      "text/plain": [
       "array([35.61365763])"
      ]
     },
     "execution_count": 14,
     "metadata": {},
     "output_type": "execute_result"
    }
   ],
   "source": [
    "entrada = [[10,3.88, 1, 0, 0, 0]]\n",
    "modelo.predict(entrada)"
   ]
  },
  {
   "cell_type": "code",
   "execution_count": 5,
   "metadata": {},
   "outputs": [
    {
     "data": {
      "text/html": [
       "<div>\n",
       "<style scoped>\n",
       "    .dataframe tbody tr th:only-of-type {\n",
       "        vertical-align: middle;\n",
       "    }\n",
       "\n",
       "    .dataframe tbody tr th {\n",
       "        vertical-align: top;\n",
       "    }\n",
       "\n",
       "    .dataframe thead th {\n",
       "        text-align: right;\n",
       "    }\n",
       "</style>\n",
       "<table border=\"1\" class=\"dataframe\">\n",
       "  <thead>\n",
       "    <tr style=\"text-align: right;\">\n",
       "      <th></th>\n",
       "      <th>TV</th>\n",
       "      <th>Radio</th>\n",
       "      <th>Social Media</th>\n",
       "      <th>Sales</th>\n",
       "      <th>Influencer_Macro</th>\n",
       "      <th>Influencer_Mega</th>\n",
       "      <th>Influencer_Micro</th>\n",
       "      <th>Influencer_Nano</th>\n",
       "    </tr>\n",
       "  </thead>\n",
       "  <tbody>\n",
       "    <tr>\n",
       "      <th>132</th>\n",
       "      <td>10</td>\n",
       "      <td>6.145248</td>\n",
       "      <td>1.591116</td>\n",
       "      <td>32.566825</td>\n",
       "      <td>1</td>\n",
       "      <td>0</td>\n",
       "      <td>0</td>\n",
       "      <td>0</td>\n",
       "    </tr>\n",
       "    <tr>\n",
       "      <th>282</th>\n",
       "      <td>10</td>\n",
       "      <td>2.112089</td>\n",
       "      <td>2.920709</td>\n",
       "      <td>32.237030</td>\n",
       "      <td>0</td>\n",
       "      <td>1</td>\n",
       "      <td>0</td>\n",
       "      <td>0</td>\n",
       "    </tr>\n",
       "    <tr>\n",
       "      <th>369</th>\n",
       "      <td>10</td>\n",
       "      <td>5.825167</td>\n",
       "      <td>0.105715</td>\n",
       "      <td>33.929084</td>\n",
       "      <td>1</td>\n",
       "      <td>0</td>\n",
       "      <td>0</td>\n",
       "      <td>0</td>\n",
       "    </tr>\n",
       "    <tr>\n",
       "      <th>590</th>\n",
       "      <td>10</td>\n",
       "      <td>4.693663</td>\n",
       "      <td>2.156241</td>\n",
       "      <td>34.566790</td>\n",
       "      <td>1</td>\n",
       "      <td>0</td>\n",
       "      <td>0</td>\n",
       "      <td>0</td>\n",
       "    </tr>\n",
       "    <tr>\n",
       "      <th>788</th>\n",
       "      <td>10</td>\n",
       "      <td>12.201230</td>\n",
       "      <td>2.452275</td>\n",
       "      <td>34.113962</td>\n",
       "      <td>1</td>\n",
       "      <td>0</td>\n",
       "      <td>0</td>\n",
       "      <td>0</td>\n",
       "    </tr>\n",
       "    <tr>\n",
       "      <th>859</th>\n",
       "      <td>10</td>\n",
       "      <td>6.492419</td>\n",
       "      <td>1.307754</td>\n",
       "      <td>34.046359</td>\n",
       "      <td>0</td>\n",
       "      <td>0</td>\n",
       "      <td>1</td>\n",
       "      <td>0</td>\n",
       "    </tr>\n",
       "    <tr>\n",
       "      <th>1123</th>\n",
       "      <td>11</td>\n",
       "      <td>7.374948</td>\n",
       "      <td>3.609159</td>\n",
       "      <td>33.980000</td>\n",
       "      <td>0</td>\n",
       "      <td>0</td>\n",
       "      <td>0</td>\n",
       "      <td>1</td>\n",
       "    </tr>\n",
       "    <tr>\n",
       "      <th>1233</th>\n",
       "      <td>10</td>\n",
       "      <td>1.179967</td>\n",
       "      <td>0.939789</td>\n",
       "      <td>34.205170</td>\n",
       "      <td>0</td>\n",
       "      <td>1</td>\n",
       "      <td>0</td>\n",
       "      <td>0</td>\n",
       "    </tr>\n",
       "    <tr>\n",
       "      <th>1516</th>\n",
       "      <td>11</td>\n",
       "      <td>8.231312</td>\n",
       "      <td>0.304836</td>\n",
       "      <td>35.637970</td>\n",
       "      <td>0</td>\n",
       "      <td>1</td>\n",
       "      <td>0</td>\n",
       "      <td>0</td>\n",
       "    </tr>\n",
       "    <tr>\n",
       "      <th>1640</th>\n",
       "      <td>10</td>\n",
       "      <td>0.573244</td>\n",
       "      <td>1.072542</td>\n",
       "      <td>33.719607</td>\n",
       "      <td>0</td>\n",
       "      <td>0</td>\n",
       "      <td>1</td>\n",
       "      <td>0</td>\n",
       "    </tr>\n",
       "  </tbody>\n",
       "</table>\n",
       "</div>"
      ],
      "text/plain": [
       "      TV      Radio  Social Media      Sales  Influencer_Macro  \\\n",
       "132   10   6.145248      1.591116  32.566825                 1   \n",
       "282   10   2.112089      2.920709  32.237030                 0   \n",
       "369   10   5.825167      0.105715  33.929084                 1   \n",
       "590   10   4.693663      2.156241  34.566790                 1   \n",
       "788   10  12.201230      2.452275  34.113962                 1   \n",
       "859   10   6.492419      1.307754  34.046359                 0   \n",
       "1123  11   7.374948      3.609159  33.980000                 0   \n",
       "1233  10   1.179967      0.939789  34.205170                 0   \n",
       "1516  11   8.231312      0.304836  35.637970                 0   \n",
       "1640  10   0.573244      1.072542  33.719607                 0   \n",
       "\n",
       "      Influencer_Mega  Influencer_Micro  Influencer_Nano  \n",
       "132                 0                 0                0  \n",
       "282                 1                 0                0  \n",
       "369                 0                 0                0  \n",
       "590                 0                 0                0  \n",
       "788                 0                 0                0  \n",
       "859                 0                 1                0  \n",
       "1123                0                 0                1  \n",
       "1233                1                 0                0  \n",
       "1516                1                 0                0  \n",
       "1640                0                 1                0  "
      ]
     },
     "execution_count": 5,
     "metadata": {},
     "output_type": "execute_result"
    }
   ],
   "source": [
    "marketing_dataset[marketing_dataset[\"Sales\"] < 36].head(10)\n",
    "# Para comparar el output de mi modelo"
   ]
  },
  {
   "cell_type": "code",
   "execution_count": 15,
   "metadata": {},
   "outputs": [
    {
     "name": "stdout",
     "output_type": "stream",
     "text": [
      "Ingrese rating de TV: 10\n",
      "Ingrese rating en redes sociales: 3.88\n",
      "Ingrese el nombre del media influencer: Nano\n"
     ]
    }
   ],
   "source": [
    "#TV      Radio  Social Media Influencer       Sales\n",
    "rating_TV=int(input(\"Ingrese rating de TV: \"))\n",
    "rating_social=float(input(\"Ingrese rating en redes sociales: \"))\n",
    "influencer=input(\"Ingrese el nombre del media influencer: \")"
   ]
  },
  {
   "cell_type": "code",
   "execution_count": 16,
   "metadata": {},
   "outputs": [
    {
     "data": {
      "text/plain": [
       "array([35.43803651])"
      ]
     },
     "execution_count": 16,
     "metadata": {},
     "output_type": "execute_result"
    }
   ],
   "source": [
    "entrada = [[rating_TV,rating_social, 0, 0, 0, 0]]\n",
    "\n",
    "if influencer == \"Macro\":\n",
    "    entrada[0][2] = 1\n",
    "elif influencer == \"Mega\":\n",
    "    entrada[0][3] = 1\n",
    "elif influencer == \"Micro\":\n",
    "    entrada[0][4] = 1\n",
    "else:\n",
    "    entrada[0][5] = 1\n",
    "    \n",
    "modelo.predict(entrada)"
   ]
  },
  {
   "cell_type": "code",
   "execution_count": 17,
   "metadata": {},
   "outputs": [
    {
     "data": {
      "text/plain": [
       "0.9989944623800291"
      ]
     },
     "execution_count": 17,
     "metadata": {},
     "output_type": "execute_result"
    }
   ],
   "source": [
    "r_squared=linear_regression.score(predictors,response)\n",
    "r_squared"
   ]
  },
  {
   "cell_type": "code",
   "execution_count": 18,
   "metadata": {},
   "outputs": [
    {
     "name": "stdout",
     "output_type": "stream",
     "text": [
      "-0.04023809556047421\n"
     ]
    },
    {
     "data": {
      "text/plain": [
       "2.949405483453455"
      ]
     },
     "execution_count": 18,
     "metadata": {},
     "output_type": "execute_result"
    }
   ],
   "source": [
    "# Residuals margen de error\n",
    "response_predictions=linear_regression.predict(predictors)\n",
    "residuals=response-response_predictions\n",
    "print(residuals.mean())\n",
    "residuals.std()"
   ]
  },
  {
   "cell_type": "code",
   "execution_count": 19,
   "metadata": {},
   "outputs": [
    {
     "data": {
      "image/png": "[encoded data removed]",
      "text/plain": [
       "<Figure size 432x288 with 1 Axes>"
      ]
     },
     "metadata": {
      "needs_background": "light"
     },
     "output_type": "display_data"
    }
   ],
   "source": [
    "import matplotlib.pyplot as plt\n",
    "plt.hist(residuals,bins=100)\n",
    "plt.show()"
   ]
  },
  {
   "cell_type": "code",
   "execution_count": 20,
   "metadata": {},
   "outputs": [
    {
     "name": "stdout",
     "output_type": "stream",
     "text": [
      "9.100515517041677\n"
     ]
    }
   ],
   "source": [
    "from sklearn.metrics import mean_squared_error\n",
    "\n",
    "y_pred=modelo.predict(predictors_test)\n",
    "mse=mean_squared_error(response_test,y_pred)\n",
    "print(mse)"
   ]
  },
  {
   "cell_type": "code",
   "execution_count": 24,
   "metadata": {},
   "outputs": [
    {
     "data": {
      "text/plain": [
       "[<matplotlib.lines.Line2D at 0x1dd431caa30>]"
      ]
     },
     "execution_count": 24,
     "metadata": {},
     "output_type": "execute_result"
    },
    {
     "data": {
      "image/png": "[encoded data removed]",
      "text/plain": [
       "<Figure size 864x576 with 1 Axes>"
      ]
     },
     "metadata": {
      "needs_background": "light"
     },
     "output_type": "display_data"
    }
   ],
   "source": [
    "import matplotlib.pyplot as plt\n",
    "plt.figure(figsize=(12,8))\n",
    "plt.scatter(y_pred, response_test)\n",
    "plt.plot(range(0,400), range(0,400), c=\"red\")"
   ]
  },
  {
   "cell_type": "code",
   "execution_count": null,
   "metadata": {},
   "outputs": [],
   "source": []
  }
 ],
 "metadata": {
  "kernelspec": {
   "display_name": "Python 3",
   "language": "python",
   "name": "python3"
  },
  "language_info": {
   "codemirror_mode": {
    "name": "ipython",
    "version": 3
   },
   "file_extension": ".py",
   "mimetype": "text/x-python",
   "name": "python",
   "nbconvert_exporter": "python",
   "pygments_lexer": "ipython3",
   "version": "3.8.5"
  }
 },
 "nbformat": 4,
 "nbformat_minor": 2
}
